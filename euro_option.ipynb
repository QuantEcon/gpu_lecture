{
 "cells": [
  {
   "cell_type": "markdown",
   "id": "8ed62ea1",
   "metadata": {
    "id": "8ed62ea1"
   },
   "source": [
    "## Pricing a European Call Option: CPU vs GPU and CUDA vs JAX."
   ]
  },
  {
   "cell_type": "markdown",
   "id": "db3b91a2",
   "metadata": {
    "id": "db3b91a2"
   },
   "source": [
    "#### Author: [John Stachurski](http://johnstachurski.net/)\n",
    "#### Date: Nov 2022"
   ]
  },
  {
   "cell_type": "markdown",
   "id": "820988bd",
   "metadata": {},
   "source": [
    "In this notebook we implement a simple task on the CPU and the GPU.  The task is estimating the risk-neutral price of a call option.  All our code is accelerated by a JIT-compiler, meaning that it runs fast on a single thread.  The main aim is to parallelize the work across multiple threads in the most efficient way.  We start on the CPU, which only has a few threads, and then shift to the GPU.\n",
    "\n",
    "On the GPU we try a traditional implmentation using Numba-CUDA and a JAX-based implementation.  We will see that the JAX-based implementation is must faster than all others.\n",
    "\n",
    "While the Numba-CUDA implementation could be improved by thinking more carefully about the underlying hardware, JAX takes care of efficient parallization automatically."
   ]
  },
  {
   "cell_type": "markdown",
   "id": "af728dbd",
   "metadata": {},
   "source": [
    "We will use the following imports:"
   ]
  },
  {
   "cell_type": "code",
   "execution_count": 88,
   "id": "2447bf5f",
   "metadata": {
    "id": "2447bf5f"
   },
   "outputs": [],
   "source": [
    "import numpy as np\n",
    "import matplotlib.pyplot as plt\n",
    "from collections import namedtuple"
   ]
  },
  {
   "cell_type": "markdown",
   "id": "d16fe980",
   "metadata": {
    "id": "d16fe980"
   },
   "source": [
    "We are going to price a **European call option** under the assumption of risk neutrality.  \n",
    "\n",
    "Recall that the risk-neutral price of an asset that pays $G_n$ in $n$ periods (one payoff $n$ periods in the future) is \n",
    "\n",
    "$$ P = \\beta^n \\mathbb E G_n $$\n",
    "\n",
    "where $\\beta$ is a discount factor.\n",
    "\n",
    "For a European call option on with expiry at time $n$ and strike price $K$, the payoff is \n",
    "\n",
    "$$ G_n = \\max\\{S_n - K, 0\\} $$\n",
    "\n",
    "where $S_n$ is the price of the stock at time $n$.\n",
    "\n",
    "Thus, the risk-neutral price is\n",
    "\n",
    "$$ P = \\beta^n \\mathbb E \\max\\{ S_n - K, 0 \\} $$\n",
    "\n",
    "(For example, if the call option is to buy stock in Amazon at strike price $K$, the owner has the right to buy 1 share in Amazon at price $K$ after $n$ days.  The price is the expectation of the return $\\max\\{S_n - K, 0\\}$, discounted to current value.)"
   ]
  },
  {
   "cell_type": "markdown",
   "id": "5236b451",
   "metadata": {
    "id": "5236b451"
   },
   "source": [
    "## Lognormal Example\n",
    "\n",
    "Let's start with an easy case where $S_n$ has a known distribution.\n",
    "\n",
    "Suppose in particular that $S_n$ has the [log-normal](https://en.wikipedia.org/wiki/Log-normal_distribution) distribution with parameters $\\mu$ and $\\sigma$.  Let $f$ denote the density of this distribution.  \n",
    "\n",
    "Then\n",
    "\n",
    "$$ P = \\beta^n \\int_0^\\infty g(x) dx $$\n",
    "\n",
    "where\n",
    "\n",
    "$$g(x) := \\max\\{x - K, 0\\} f(x)$$ \n",
    "\n",
    "Let's plot $g$ over the interval $[0, 400]$ when"
   ]
  },
  {
   "cell_type": "code",
   "execution_count": 153,
   "id": "c7003806",
   "metadata": {
    "id": "c7003806"
   },
   "outputs": [],
   "source": [
    "μ, σ, β, n, K = 4, 0.25, 0.99, 10, 40"
   ]
  },
  {
   "cell_type": "code",
   "execution_count": 154,
   "id": "8e909043",
   "metadata": {
    "colab": {
     "base_uri": "https://localhost:8080/",
     "height": 265
    },
    "id": "8e909043",
    "outputId": "1851ede9-9162-4ad4-f57f-8b1ba14baddd"
   },
   "outputs": [
    {
     "data": {
      "image/png": "[encoded data removed]",
      "text/plain": [
       "<Figure size 432x288 with 1 Axes>"
      ]
     },
     "metadata": {
      "needs_background": "light"
     },
     "output_type": "display_data"
    }
   ],
   "source": [
    "from scipy.stats import lognorm\n",
    "\n",
    "def f(x):\n",
    "    \"Lognormal density.\"\n",
    "    return lognorm.pdf(x, σ, scale=np.exp(μ))\n",
    "\n",
    "def g(x):\n",
    "    return np.maximum(x - K, 0) * f(x)\n",
    "\n",
    "x_grid = np.linspace(0, 400, 1_000)\n",
    "y_grid = g(x_grid) \n",
    "\n",
    "fig, ax = plt.subplots()\n",
    "ax.plot(x_grid, y_grid, label=\"$g$\")\n",
    "ax.legend()\n",
    "plt.show()"
   ]
  },
  {
   "cell_type": "markdown",
   "id": "57358ce7",
   "metadata": {
    "id": "57358ce7"
   },
   "source": [
    "### Integration with Quadrature"
   ]
  },
  {
   "cell_type": "markdown",
   "id": "2dda4e74",
   "metadata": {
    "id": "2dda4e74"
   },
   "source": [
    "We can integrate numerically using quadrature to obtain the price:"
   ]
  },
  {
   "cell_type": "code",
   "execution_count": 156,
   "id": "04ca1571",
   "metadata": {
    "colab": {
     "base_uri": "https://localhost:8080/"
    },
    "id": "04ca1571",
    "lines_to_next_cell": 2,
    "outputId": "d69eccb2-10a0-4596-a2ed-e15988155f50"
   },
   "outputs": [
    {
     "name": "stdout",
     "output_type": "stream",
     "text": [
      "The numerical integration based option price is 15.188\n"
     ]
    }
   ],
   "source": [
    "from scipy.integrate import quad\n",
    "\n",
    "integral, error = quad(g, 0, 1_000)\n",
    "P = β**n * integral \n",
    "print(f\"The numerical integration based option price is {P:.3f}\")"
   ]
  },
  {
   "cell_type": "markdown",
   "id": "01bc94d2",
   "metadata": {
    "id": "01bc94d2"
   },
   "source": [
    "### Integration via Monte Carlo"
   ]
  },
  {
   "cell_type": "markdown",
   "id": "ef33d190",
   "metadata": {
    "id": "ef33d190"
   },
   "source": [
    "We can get a similar result using Monte Carlo to compute the expectation term in the option price, rather than `quad`."
   ]
  },
  {
   "cell_type": "markdown",
   "id": "3f1bf35b",
   "metadata": {
    "id": "3f1bf35b"
   },
   "source": [
    "We use the fact that if $S_n^1, \\ldots, S_n^M$ are independent draws from the lognormal distribution specified above, then, by the law of large numbers,\n",
    "\n",
    "$$ \\mathbb E \\max\\{ S_n - K, 0 \\} \n",
    "    \\approx\n",
    "    \\frac{1}{M} \\sum_{m=1}^M \\max \\{S_n^m - K, 0 \\}\n",
    "    $$\n",
    "  "
   ]
  },
  {
   "cell_type": "code",
   "execution_count": 157,
   "id": "cabb4a3c",
   "metadata": {
    "colab": {
     "base_uri": "https://localhost:8080/"
    },
    "id": "cabb4a3c",
    "outputId": "f9286a55-de80-432b-e64f-633d550dea4a"
   },
   "outputs": [
    {
     "name": "stdout",
     "output_type": "stream",
     "text": [
      "The Monte Carlo option price is 15.182\n"
     ]
    }
   ],
   "source": [
    "M = 10_000_000\n",
    "S = np.exp(μ + σ * np.random.randn(M))\n",
    "payoffs = np.maximum(S - K, 0)\n",
    "P = β**n * payoffs.mean()\n",
    "print(f\"The Monte Carlo option price is {P:.3f}\")"
   ]
  },
  {
   "cell_type": "markdown",
   "id": "574b8ecd",
   "metadata": {
    "id": "574b8ecd"
   },
   "source": [
    "## A Model with Stochastic Volatility\n",
    "\n",
    "In the last example we had a known distribution for $S_n$.\n",
    "\n",
    "Now let's investigate a more realistic model, where we begin by specifying the underlying dynamics."
   ]
  },
  {
   "cell_type": "markdown",
   "id": "4d25b29d",
   "metadata": {
    "id": "d2904228"
   },
   "source": [
    "One common model for $\\{S_t\\}$ is\n",
    "\n",
    "$$ \\ln \\frac{S_{t+1}}{S_t} = \\mu + \\sigma \\xi_{t+1} $$\n",
    "\n",
    "where $\\{ \\xi_t \\}$ is IID and standard normal.  However, its predictions are counterfactual because volatility is not stationary but rather changes over time.  \n",
    "\n",
    "Here is an improved version:\n",
    "\n",
    "$$ \\ln \\frac{S_{t+1}}{S_t} = \\mu + \\sigma_t \\xi_{t+1} $$\n",
    "\n",
    "where \n",
    "\n",
    "$$ \n",
    "    \\sigma_t = \\exp(h_t), \n",
    "    \\quad\n",
    "        h_{t+1} = \\rho h_t + \\nu \\eta_{t+1}\n",
    "$$\n",
    "\n",
    "Here $\\{\\eta_t\\}$ is also IID and standard normal."
   ]
  },
  {
   "cell_type": "markdown",
   "id": "d2904228",
   "metadata": {
    "id": "d2904228"
   },
   "source": [
    "Putting this together, with $s_t := \\ln S_t$, the dynamics become\n",
    "\n",
    "$$\n",
    "\\begin{aligned}\n",
    "s_{t+1} & = s_t + \\mu + \\exp(h_t) \\xi_{t+1}\\\\\n",
    "h_{t+1} & = \\rho h_t + \\nu \\eta_{t+1}\n",
    "\\end{aligned}\n",
    "$$"
   ]
  },
  {
   "cell_type": "markdown",
   "id": "e1291080",
   "metadata": {},
   "source": [
    "### Default Specification"
   ]
  },
  {
   "cell_type": "markdown",
   "id": "5e4b5ce5",
   "metadata": {},
   "source": [
    "We use a namedtuple for storing parameters and initial conditions"
   ]
  },
  {
   "cell_type": "code",
   "execution_count": 162,
   "id": "e447d71b",
   "metadata": {
    "id": "e447d71b",
    "lines_to_next_cell": 1
   },
   "outputs": [],
   "source": [
    "Model = namedtuple(\"Model\", \n",
    "                   (\"β\", \"μ\", \"K\", \"n\", \"ρ\", \"ν\", \"S0\", \"h0\"))"
   ]
  },
  {
   "cell_type": "markdown",
   "id": "60dba19a",
   "metadata": {},
   "source": [
    "Here's a function to create an instance of `Model` with a set of default parameters."
   ]
  },
  {
   "cell_type": "code",
   "execution_count": 163,
   "id": "ded4af65",
   "metadata": {
    "id": "ded4af65",
    "lines_to_next_cell": 1
   },
   "outputs": [],
   "source": [
    "def create_model(β=0.95,     # discount factor\n",
    "                 μ=0.0001,   # mean price growth rate\n",
    "                 K=100,      # strike price\n",
    "                 n=10,       # expiry\n",
    "                 ρ=0.1,      # volatility correlation\n",
    "                 ν=0.001,    # volatility of volatility\n",
    "                 S0=10,      # initial S\n",
    "                 h0=0):      # inital h\n",
    "\n",
    "    return Model(β=β, μ=μ, K=K, n=n, ρ=ρ, ν=ν, S0=S0, h0=h0)"
   ]
  },
  {
   "cell_type": "markdown",
   "id": "9ff267d1",
   "metadata": {},
   "source": [
    "Let's create a default instance to use below."
   ]
  },
  {
   "cell_type": "code",
   "execution_count": 164,
   "id": "75afe6de",
   "metadata": {
    "id": "75afe6de"
   },
   "outputs": [],
   "source": [
    "default_model = create_model()"
   ]
  },
  {
   "cell_type": "markdown",
   "id": "322139c0",
   "metadata": {
    "id": "322139c0"
   },
   "source": [
    "### Visualizing Paths\n",
    "\n"
   ]
  },
  {
   "cell_type": "markdown",
   "id": "99f53167",
   "metadata": {
    "id": "99f53167"
   },
   "source": [
    "\n",
    "Here is a function to simulate a path for prices."
   ]
  },
  {
   "cell_type": "code",
   "execution_count": 165,
   "id": "1695150b",
   "metadata": {
    "id": "1695150b"
   },
   "outputs": [],
   "source": [
    "from numpy.random import randn\n",
    "\n",
    "def simulate_asset_price_path(model):\n",
    "    \n",
    "    β, μ, K, n, ρ, ν, S0, h0 = model\n",
    "    s = np.empty(n+1)\n",
    "    s[0] = np.log(S0)\n",
    "\n",
    "    h = h0\n",
    "    for t in range(n):\n",
    "        s[t+1] = s[t] + μ + np.exp(h) * randn()\n",
    "        h = ρ * h + ν * randn()\n",
    "        \n",
    "    return np.exp(s)"
   ]
  },
  {
   "cell_type": "markdown",
   "id": "81c7da30",
   "metadata": {
    "id": "81c7da30"
   },
   "source": [
    "Here we plot some paths and the log of the paths."
   ]
  },
  {
   "cell_type": "code",
   "execution_count": 167,
   "id": "0ccd29c0",
   "metadata": {
    "colab": {
     "base_uri": "https://localhost:8080/",
     "height": 297
    },
    "id": "0ccd29c0",
    "outputId": "821b719b-337e-4866-c9f8-ece1081737d5"
   },
   "outputs": [
    {
     "data": {
      "image/png": "[encoded data removed]",
      "text/plain": [
       "<Figure size 432x288 with 2 Axes>"
      ]
     },
     "metadata": {
      "needs_background": "light"
     },
     "output_type": "display_data"
    }
   ],
   "source": [
    "fig, axes = plt.subplots(2, 1)\n",
    "\n",
    "titles = 'log paths', 'paths'\n",
    "transforms = np.log, lambda x: x\n",
    "for ax, transform, title in zip(axes, transforms, titles):\n",
    "    for i in range(50):\n",
    "        path = simulate_asset_price_path(default_model)\n",
    "        ax.plot(transform(path), 'b-', alpha=0.5)\n",
    "    ax.set_title(title)\n",
    "    \n",
    "fig.tight_layout()\n",
    "plt.show()"
   ]
  },
  {
   "cell_type": "markdown",
   "id": "723b16c7",
   "metadata": {
    "id": "723b16c7"
   },
   "source": [
    "### Monte Carlo Computation via Numba"
   ]
  },
  {
   "cell_type": "markdown",
   "id": "b3e57768",
   "metadata": {
    "id": "b3e57768"
   },
   "source": [
    "Now we compute the price of the option $P$ by Monte Carlo, averaging over realizations $S_n^1, \\ldots, S_n^M$ of $S_n$ and appealing to the law of large numbers:\n",
    "\n",
    "$$\n",
    "\\begin{aligned}\n",
    "P & = \\beta^n \\mathbb E \\max\\{ S_n - K, 0 \\} \n",
    "  \\\\\n",
    "  &\\approx\n",
    "    \\beta^n \\frac{1}{M} \\sum_{m=1}^M \\max \\{S_n^m - K, 0 \\}\n",
    "\\end{aligned}\n",
    "$$\n",
    "    \n"
   ]
  },
  {
   "cell_type": "code",
   "execution_count": 168,
   "id": "153ec2db",
   "metadata": {
    "id": "153ec2db"
   },
   "outputs": [],
   "source": [
    "from numba import njit\n",
    "default_M = 20_000_000"
   ]
  },
  {
   "cell_type": "code",
   "execution_count": 169,
   "id": "3da12c7a",
   "metadata": {
    "id": "3da12c7a"
   },
   "outputs": [],
   "source": [
    "@njit\n",
    "def compute_call_price(model, M=default_M):\n",
    "    \"\"\"\n",
    "    Generate M observations of S_n and average to estimate\n",
    "    the option price.\n",
    "    \"\"\"\n",
    "\n",
    "    # Set up\n",
    "    β, μ, K, n, ρ, ν, S0, h0 = model\n",
    "    current_sum = 0.0\n",
    "    \n",
    "    # For each sample path\n",
    "    for m in range(M):\n",
    "        s = np.log(S0)\n",
    "        h = h0\n",
    "        \n",
    "        # Simulate forward in time\n",
    "        for t in range(n):\n",
    "            s = s + μ + np.exp(h) * randn()\n",
    "            h = ρ * h + ν * randn()\n",
    "            \n",
    "        # And add the value max{S_n - K, 0} to current_sum\n",
    "        current_sum += np.maximum(np.exp(s) - K, 0)\n",
    "        \n",
    "    return β**n * current_sum / M"
   ]
  },
  {
   "cell_type": "markdown",
   "id": "6382e6ed",
   "metadata": {},
   "source": [
    "Let's time it."
   ]
  },
  {
   "cell_type": "code",
   "execution_count": 171,
   "id": "ab8ec64a",
   "metadata": {
    "colab": {
     "base_uri": "https://localhost:8080/"
    },
    "id": "ab8ec64a",
    "lines_to_next_cell": 2,
    "outputId": "082d3534-d083-4dd5-93fd-92665f79823f"
   },
   "outputs": [
    {
     "name": "stdout",
     "output_type": "stream",
     "text": [
      "CPU times: user 9.54 s, sys: 0 ns, total: 9.54 s\n",
      "Wall time: 9.39 s\n"
     ]
    },
    {
     "data": {
      "text/plain": [
       "840.4834277682781"
      ]
     },
     "execution_count": 171,
     "metadata": {},
     "output_type": "execute_result"
    }
   ],
   "source": [
    "%%time \n",
    "compute_call_price(default_model)"
   ]
  },
  {
   "cell_type": "markdown",
   "id": "36634042",
   "metadata": {},
   "source": [
    "We'll call it again to exclude compile time."
   ]
  },
  {
   "cell_type": "code",
   "execution_count": 172,
   "id": "20afabf5",
   "metadata": {
    "colab": {
     "base_uri": "https://localhost:8080/"
    },
    "id": "ab8ec64a",
    "lines_to_next_cell": 2,
    "outputId": "082d3534-d083-4dd5-93fd-92665f79823f"
   },
   "outputs": [
    {
     "name": "stdout",
     "output_type": "stream",
     "text": [
      "CPU times: user 9.96 s, sys: 0 ns, total: 9.96 s\n",
      "Wall time: 9.82 s\n"
     ]
    },
    {
     "data": {
      "text/plain": [
       "870.4382799604687"
      ]
     },
     "execution_count": 172,
     "metadata": {},
     "output_type": "execute_result"
    }
   ],
   "source": [
    "%%time \n",
    "compute_call_price(default_model)"
   ]
  },
  {
   "cell_type": "markdown",
   "id": "e99ee41f",
   "metadata": {
    "id": "e99ee41f"
   },
   "source": [
    "### Acceleration via `prange`\n",
    "\n",
    "Let's use `prange` from Numba to parallelize this codeand make it faster.\n",
    "\n",
    "Note that, at this stage, parallelization targets host chips (onboard CPUs), not the GPU."
   ]
  },
  {
   "cell_type": "code",
   "execution_count": 173,
   "id": "ea4d17c9",
   "metadata": {
    "id": "ea4d17c9",
    "lines_to_next_cell": 1
   },
   "outputs": [],
   "source": [
    "from numba import prange"
   ]
  },
  {
   "cell_type": "code",
   "execution_count": 174,
   "id": "6980ff3a",
   "metadata": {
    "id": "6980ff3a"
   },
   "outputs": [],
   "source": [
    "@njit(parallel=True)\n",
    "def compute_call_price_parallel(model, M=default_M):\n",
    "\n",
    "    β, μ, K, n, ρ, ν, S0, h0 = model\n",
    "\n",
    "    current_sum = 0.0\n",
    "    # For each sample path\n",
    "    for m in prange(M):      # Note use of prange\n",
    "        s = np.log(S0)\n",
    "        h = h0\n",
    "        # Simulate forward in time\n",
    "        for t in range(n):\n",
    "            s = s + μ + np.exp(h) * randn()\n",
    "            h = ρ * h + ν * randn()\n",
    "        # And add the value max{S_n - K, 0} to current_sum\n",
    "        current_sum += np.maximum(np.exp(s) - K, 0)\n",
    "        \n",
    "    return β**n * current_sum / M"
   ]
  },
  {
   "cell_type": "code",
   "execution_count": 175,
   "id": "0a98e90b",
   "metadata": {
    "colab": {
     "base_uri": "https://localhost:8080/"
    },
    "id": "0a98e90b",
    "outputId": "da705bad-0917-4f05-d6e5-ec0f6104f26c"
   },
   "outputs": [
    {
     "name": "stdout",
     "output_type": "stream",
     "text": [
      "CPU times: user 17.5 s, sys: 0 ns, total: 17.5 s\n",
      "Wall time: 2.7 s\n"
     ]
    },
    {
     "data": {
      "text/plain": [
       "848.2589630105143"
      ]
     },
     "execution_count": 175,
     "metadata": {},
     "output_type": "execute_result"
    }
   ],
   "source": [
    "%%time\n",
    "compute_call_price_parallel(default_model)"
   ]
  },
  {
   "cell_type": "code",
   "execution_count": 176,
   "id": "d8140f11",
   "metadata": {
    "colab": {
     "base_uri": "https://localhost:8080/"
    },
    "id": "d8140f11",
    "lines_to_next_cell": 2,
    "outputId": "b957919d-2724-4e76-b2ef-af9e5cc4c30a"
   },
   "outputs": [
    {
     "name": "stdout",
     "output_type": "stream",
     "text": [
      "CPU times: user 17.2 s, sys: 0 ns, total: 17.2 s\n",
      "Wall time: 2.19 s\n"
     ]
    },
    {
     "data": {
      "text/plain": [
       "884.661543714716"
      ]
     },
     "execution_count": 176,
     "metadata": {},
     "output_type": "execute_result"
    }
   ],
   "source": [
    "%%time\n",
    "compute_call_price_parallel(default_model)"
   ]
  },
  {
   "cell_type": "markdown",
   "id": "d26d83a8",
   "metadata": {
    "id": "d26d83a8"
   },
   "source": [
    "### A GPU Implementation Using CUDA"
   ]
  },
  {
   "cell_type": "markdown",
   "id": "353726be",
   "metadata": {},
   "source": [
    "Next we will use a GPU implmentation using CUDA, which is an interface to GPU programming designed by Nvidia.  Rather than using CUDA directly, which requires C, we use a Numba-based front end --- which is just as fast, if not faster."
   ]
  },
  {
   "cell_type": "markdown",
   "id": "9eaf0df5",
   "metadata": {},
   "source": [
    "If you are using Colab, you need to first need to make Numba aware of the location of certain libraries.  Uncomment the next two cells."
   ]
  },
  {
   "cell_type": "code",
   "execution_count": 177,
   "id": "c45c423c",
   "metadata": {
    "colab": {
     "base_uri": "https://localhost:8080/"
    },
    "id": "1_lbXMhOTRra",
    "outputId": "4e455ec2-deea-4ca5-e24a-cb3dfcd6ded8"
   },
   "outputs": [],
   "source": [
    "#!find / -iname 'libdevice'\n",
    "#!find / -iname 'libnvvm.so'"
   ]
  },
  {
   "cell_type": "markdown",
   "id": "cecf954d",
   "metadata": {},
   "source": [
    "Change `cuda-xxx` to the version displayed."
   ]
  },
  {
   "cell_type": "code",
   "execution_count": 178,
   "id": "14b93d5c",
   "metadata": {
    "id": "26bAoSYNTXFf"
   },
   "outputs": [],
   "source": [
    "#import os\n",
    "#os.environ['NUMBAPRO_LIBDEVICE'] = \"/usr/local/cuda-11.2/nvvm/libdevice\"\n",
    "#os.environ['NUMBAPRO_NVVM'] = \"/usr/local/cuda-11.2/nvvm/lib64/libnvvm.so\""
   ]
  },
  {
   "cell_type": "markdown",
   "id": "fcee7eb6",
   "metadata": {},
   "source": [
    "We use the following libraries."
   ]
  },
  {
   "cell_type": "code",
   "execution_count": 179,
   "id": "dc42806e",
   "metadata": {
    "id": "dc42806e"
   },
   "outputs": [],
   "source": [
    "from math import log, exp\n",
    "from numba import cuda, objmode, float32, int32\n",
    "from numba.cuda.random import xoroshiro128p_normal_float32 as xnf32\n",
    "from numba.cuda.random import create_xoroshiro128p_states as x128_states"
   ]
  },
  {
   "cell_type": "markdown",
   "id": "a2bceb31",
   "metadata": {},
   "source": [
    "GPUs typically operate on 32 bit floats so we use the following function to convert as required."
   ]
  },
  {
   "cell_type": "code",
   "execution_count": 180,
   "id": "2a4dd2f3",
   "metadata": {},
   "outputs": [],
   "source": [
    "def convert_to_32_bit(scalar):\n",
    "    \"Convert scalar to 32 bits.  Must be a float or integer.\"\n",
    "    if isinstance(scalar, float):\n",
    "        return float32(scalar)\n",
    "    return(int32(scalar))    "
   ]
  },
  {
   "cell_type": "markdown",
   "id": "421340fa",
   "metadata": {},
   "source": [
    "Here's a function to update the log price of the asset and the volatility term by one period."
   ]
  },
  {
   "cell_type": "code",
   "execution_count": 181,
   "id": "2ef635b3",
   "metadata": {
    "id": "2ef635b3"
   },
   "outputs": [],
   "source": [
    "@cuda.jit(device=True)\n",
    "def update_price(params, s, h, ξ_1, ξ_2):\n",
    "    \"Update the state given standard normal draws ξ_1 and ξ_2.\"\n",
    "    β, μ, K, n, ρ, ν = params\n",
    "    s = s + μ + exp(h) * ξ_1\n",
    "    h = ρ * h + ν * ξ_2\n",
    "    return s, h"
   ]
  },
  {
   "cell_type": "markdown",
   "id": "c0bc33b5",
   "metadata": {},
   "source": [
    "Now we write a **kernel** function, which describes the task of a single thread on the GPU."
   ]
  },
  {
   "cell_type": "code",
   "execution_count": 183,
   "id": "797f1f05",
   "metadata": {
    "id": "797f1f05"
   },
   "outputs": [],
   "source": [
    "@cuda.jit\n",
    "def price_generation_kernel(params, init_vals, price_sample, rng_states):\n",
    "    \"\"\"\n",
    "    Kernel function for the GPU.  Produces one Monte Carlo observation of S_n.\n",
    "    \n",
    "    This draw of S_n will be written into a slot in the array `price_sample` \n",
    "    specific to each thread.\n",
    "    \"\"\"\n",
    "\n",
    "    # Get position and unpack parameter values\n",
    "    pos = cuda.grid(1)\n",
    "    β, μ, K, n, ρ, ν = params\n",
    "    S0, h0 = init_vals\n",
    "    \n",
    "    s, h = log(S0), h0\n",
    "    for t in range(n):\n",
    "\n",
    "        # Draw shocks and then update price\n",
    "        ξ_1 = xnf32(rng_states, pos)\n",
    "        ξ_2 = xnf32(rng_states, pos)\n",
    "        s, h = update_price(params, s, h, ξ_1, ξ_2)\n",
    "\n",
    "    price_sample[pos] = exp(s)"
   ]
  },
  {
   "cell_type": "markdown",
   "id": "a1e98800",
   "metadata": {},
   "source": [
    "Next we create a host function that allocates memory on the device, launches the kernel, collects the output and returns an estimate of the option price."
   ]
  },
  {
   "cell_type": "code",
   "execution_count": 198,
   "id": "c0804638",
   "metadata": {
    "id": "c0804638"
   },
   "outputs": [],
   "source": [
    "def compute_call_price_cuda(model,\n",
    "                            M=default_M,\n",
    "                            seed=1234, \n",
    "                            threads_per_block=132):\n",
    "    \"\"\"\n",
    "    This function launches the kernel and returns a \n",
    "    Monte Carlo estimate of the price\n",
    "    \"\"\"\n",
    "    # Set up\n",
    "    nthreads = threads_per_block\n",
    "    nblocks = M // nthreads\n",
    "    β, μ, K, n, ρ, ν, S0, h0 = model\n",
    "    params = tuple(map(convert_to_32_bit, (β, μ, K, n, ρ, ν)))\n",
    "    init_vals = tuple(map(convert_to_32_bit, (S0, h0)))\n",
    "\n",
    "    # Generate the random states\n",
    "    rng_states = x128_states(M, seed=seed)\n",
    "\n",
    "    # Allocate memory\n",
    "    price_sample = cuda.to_device(np.zeros(M))\n",
    "\n",
    "    # Launch kernel and compute prices\n",
    "    price_generation_kernel[nblocks, nthreads](\n",
    "        params, init_vals, price_sample, rng_states\n",
    "    )\n",
    "\n",
    "    # Compute average payoff and discount\n",
    "    price_sample = price_sample.copy_to_host()\n",
    "    payoffs = np.maximum(price_sample - K, 0)\n",
    "    return β**n * np.mean(payoffs)"
   ]
  },
  {
   "cell_type": "code",
   "execution_count": 199,
   "id": "474d80fd",
   "metadata": {
    "colab": {
     "base_uri": "https://localhost:8080/"
    },
    "id": "474d80fd",
    "outputId": "66221def-87da-4783-b989-54b2aca8308a"
   },
   "outputs": [
    {
     "name": "stdout",
     "output_type": "stream",
     "text": [
      "CPU times: user 4.34 s, sys: 253 ms, total: 4.59 s\n",
      "Wall time: 4.59 s\n"
     ]
    },
    {
     "data": {
      "text/plain": [
       "849.0907210556882"
      ]
     },
     "execution_count": 199,
     "metadata": {},
     "output_type": "execute_result"
    }
   ],
   "source": [
    "%%time\n",
    "compute_call_price_cuda(default_model)"
   ]
  },
  {
   "cell_type": "markdown",
   "id": "11b27cba",
   "metadata": {},
   "source": [
    "This result is disappointing.  The main issue is that the kernel performs a very small task, so the overhead of parallelization exceeds the speed gains.\n",
    "\n",
    "We could try to reoptimize this --- or we could just use JAX and let Google's engineers do the job for us."
   ]
  },
  {
   "cell_type": "markdown",
   "id": "33bd155d",
   "metadata": {
    "id": "a74eshKnWVyP"
   },
   "source": [
    "## JAX Version"
   ]
  },
  {
   "cell_type": "code",
   "execution_count": 200,
   "id": "3e74526f",
   "metadata": {},
   "outputs": [],
   "source": [
    "import jax\n",
    "import jax.numpy as jnp"
   ]
  },
  {
   "cell_type": "markdown",
   "id": "0fdba2f5",
   "metadata": {},
   "source": [
    "Our JAX-based function keeps track of all $M$ prices at once and shifts them forward in time over $n$ steps.  Then it computes the sample mean and the option price."
   ]
  },
  {
   "cell_type": "code",
   "execution_count": 201,
   "id": "d1c39b5a",
   "metadata": {},
   "outputs": [],
   "source": [
    "\n",
    "def compute_call_price_jax(model=default_model,\n",
    "                           M=default_M,\n",
    "                           key=jax.random.PRNGKey(1)):\n",
    "    \"\"\"\n",
    "    Estimate the price of the call option using Monte Carlo.\n",
    "    \"\"\"\n",
    "    \n",
    "    β, μ, K, n, ρ, ν, S0, h0 = model\n",
    "\n",
    "    s = jnp.full(M, jnp.log(S0))\n",
    "    h = jnp.full(M, h0)\n",
    "    for t in range(n):\n",
    "        key, subkey = jax.random.split(key)\n",
    "        Z = jax.random.normal(subkey, (2, M))\n",
    "        s = s + μ + jnp.exp(h) * Z[0, :]\n",
    "        h = ρ * h + ν * Z[1, :]\n",
    "    expectation = jnp.mean(jnp.maximum(jnp.exp(s) - K, 0))\n",
    "        \n",
    "    return β**n * expectation"
   ]
  },
  {
   "cell_type": "code",
   "execution_count": 202,
   "id": "e642fe26",
   "metadata": {},
   "outputs": [
    {
     "name": "stdout",
     "output_type": "stream",
     "text": [
      "CPU times: user 20.2 ms, sys: 7.79 ms, total: 28 ms\n",
      "Wall time: 45.2 ms\n"
     ]
    },
    {
     "data": {
      "text/plain": [
       "DeviceArray(883.57184, dtype=float32)"
      ]
     },
     "execution_count": 202,
     "metadata": {},
     "output_type": "execute_result"
    }
   ],
   "source": [
    "%%time \n",
    "compute_call_price_jax().block_until_ready()"
   ]
  },
  {
   "cell_type": "code",
   "execution_count": 203,
   "id": "406cecf2",
   "metadata": {},
   "outputs": [
    {
     "name": "stdout",
     "output_type": "stream",
     "text": [
      "CPU times: user 19.5 ms, sys: 7.18 ms, total: 26.7 ms\n",
      "Wall time: 44.9 ms\n"
     ]
    },
    {
     "data": {
      "text/plain": [
       "DeviceArray(883.57184, dtype=float32)"
      ]
     },
     "execution_count": 203,
     "metadata": {},
     "output_type": "execute_result"
    }
   ],
   "source": [
    "%%time \n",
    "compute_call_price_jax().block_until_ready()"
   ]
  },
  {
   "cell_type": "markdown",
   "id": "86c6e930",
   "metadata": {},
   "source": [
    "We can do even better by using JAX to JIT-compile the function."
   ]
  },
  {
   "cell_type": "code",
   "execution_count": 204,
   "id": "32820138",
   "metadata": {},
   "outputs": [],
   "source": [
    "compute_call_price_jax_jit = jax.jit(compute_call_price_jax)"
   ]
  },
  {
   "cell_type": "markdown",
   "id": "3514085b",
   "metadata": {},
   "source": [
    "Let's time it."
   ]
  },
  {
   "cell_type": "code",
   "execution_count": 205,
   "id": "8bd16be7",
   "metadata": {},
   "outputs": [
    {
     "name": "stdout",
     "output_type": "stream",
     "text": [
      "CPU times: user 1.28 s, sys: 23.2 ms, total: 1.3 s\n",
      "Wall time: 755 ms\n"
     ]
    },
    {
     "data": {
      "text/plain": [
       "DeviceArray(883.57184, dtype=float32)"
      ]
     },
     "execution_count": 205,
     "metadata": {},
     "output_type": "execute_result"
    }
   ],
   "source": [
    "%%time \n",
    "compute_call_price_jax_jit().block_until_ready()"
   ]
  },
  {
   "cell_type": "markdown",
   "id": "0bf64a88",
   "metadata": {},
   "source": [
    "Now here's the timing after compilation is complete:"
   ]
  },
  {
   "cell_type": "code",
   "execution_count": 207,
   "id": "b926f388",
   "metadata": {},
   "outputs": [
    {
     "name": "stdout",
     "output_type": "stream",
     "text": [
      "CPU times: user 1.71 ms, sys: 210 µs, total: 1.92 ms\n",
      "Wall time: 21 ms\n"
     ]
    },
    {
     "data": {
      "text/plain": [
       "DeviceArray(883.57184, dtype=float32)"
      ]
     },
     "execution_count": 207,
     "metadata": {},
     "output_type": "execute_result"
    }
   ],
   "source": [
    "%%time \n",
    "compute_call_price_jax_jit().block_until_ready()"
   ]
  },
  {
   "cell_type": "code",
   "execution_count": null,
   "id": "c85d8e7f",
   "metadata": {},
   "outputs": [],
   "source": []
  }
 ],
 "metadata": {
  "accelerator": "GPU",
  "colab": {
   "provenance": []
  },
  "gpuClass": "premium",
  "kernelspec": {
   "display_name": "Python 3 (ipykernel)",
   "language": "python",
   "name": "python3"
  },
  "language_info": {
   "codemirror_mode": {
    "name": "ipython",
    "version": 3
   },
   "file_extension": ".py",
   "mimetype": "text/x-python",
   "name": "python",
   "nbconvert_exporter": "python",
   "pygments_lexer": "ipython3",
   "version": "3.9.12"
  }
 },
 "nbformat": 4,
 "nbformat_minor": 5
}
