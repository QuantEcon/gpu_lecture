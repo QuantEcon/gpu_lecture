{
 "cells": [
  {
   "cell_type": "markdown",
   "id": "8ed62ea1",
   "metadata": {
    "id": "8ed62ea1"
   },
   "source": [
    "## Pricing a European Call Option: CPU vs GPU"
   ]
  },
  {
   "cell_type": "markdown",
   "id": "db3b91a2",
   "metadata": {
    "id": "db3b91a2"
   },
   "source": [
    "#### Author: [John Stachurski](http://johnstachurski.net/)\n",
    "#### Date: Nov 2022"
   ]
  },
  {
   "cell_type": "code",
   "execution_count": 1,
   "id": "2447bf5f",
   "metadata": {
    "id": "2447bf5f"
   },
   "outputs": [],
   "source": [
    "import numpy as np\n",
    "import matplotlib.pyplot as plt\n",
    "from collections import namedtuple"
   ]
  },
  {
   "cell_type": "markdown",
   "id": "d16fe980",
   "metadata": {
    "id": "d16fe980"
   },
   "source": [
    "We are going to price a European call option under the assumption of risk neutrality.  The price satisfies\n",
    "\n",
    "\n",
    "$$ P = \\beta^n \\mathbb E \\max\\{ S_n - K, 0 \\} $$\n",
    "\n",
    "where\n",
    "\n",
    "1. $\\beta$ is a discount factor,\n",
    "2. $n$ is the expiry date,\n",
    "2. $K$ is the strike price and\n",
    "3. $\\{S_t\\}$ is the price of the underlying asset at each time $t$.\n",
    "\n",
    "(For example, if the call option is to buy stock in Amazon at strike price $K$, the owner has the right to buy 1 share in Amazon at price $K$ after $n$ days.  The price is the expectation of the return $\\max\\{S_n - K, 0\\}$, discounted to current value.)"
   ]
  },
  {
   "cell_type": "markdown",
   "id": "5236b451",
   "metadata": {
    "id": "5236b451"
   },
   "source": [
    "## Lognormal Example\n",
    "\n",
    "Let's start with an easy case where $S_n$ has a known distribution.\n",
    "\n",
    "Suppose in particular that $S_n$ has the [log-normal](https://en.wikipedia.org/wiki/Log-normal_distribution) distribution with parameters $\\mu$ and $\\sigma$.  Let $f$ denote the density of this distribution.  Then\n",
    "\n",
    "$$ P = \\beta^n \\int_0^\\infty \\max\\{x - K, 0\\} f(x) dx $$\n",
    "\n",
    "Let's first plot the function \n",
    "\n",
    "$$g(x) = \\beta^n  \\max\\{x - K, 0\\} f(x)$$ \n",
    "\n",
    "over the interval $[0, 400]$ when"
   ]
  },
  {
   "cell_type": "code",
   "execution_count": 2,
   "id": "c7003806",
   "metadata": {
    "id": "c7003806"
   },
   "outputs": [],
   "source": [
    "μ, σ, β, n, K = 4, 0.25, 0.99, 10, 40"
   ]
  },
  {
   "cell_type": "code",
   "execution_count": 3,
   "id": "8e909043",
   "metadata": {
    "colab": {
     "base_uri": "https://localhost:8080/",
     "height": 265
    },
    "id": "8e909043",
    "outputId": "1851ede9-9162-4ad4-f57f-8b1ba14baddd"
   },
   "outputs": [
    {
     "data": {
      "image/png": "[encoded data removed]",
      "text/plain": [
       "<Figure size 432x288 with 1 Axes>"
      ]
     },
     "metadata": {
      "needs_background": "light"
     },
     "output_type": "display_data"
    }
   ],
   "source": [
    "from scipy.integrate import quad\n",
    "from scipy.stats import lognorm\n",
    "\n",
    "def g(x):\n",
    "    return β**n * np.maximum(x - K, 0) * lognorm.pdf(x, σ, scale=np.exp(μ))\n",
    "\n",
    "x_grid = np.linspace(0, 400, 1000)\n",
    "y_grid = g(x_grid) \n",
    "\n",
    "fig, ax = plt.subplots()\n",
    "ax.plot(x_grid, y_grid, label=\"$g$\")\n",
    "ax.legend()\n",
    "plt.show()"
   ]
  },
  {
   "cell_type": "markdown",
   "id": "57358ce7",
   "metadata": {
    "id": "57358ce7"
   },
   "source": [
    "### Integration with Quadrature"
   ]
  },
  {
   "cell_type": "markdown",
   "id": "2dda4e74",
   "metadata": {
    "id": "2dda4e74"
   },
   "source": [
    "We can integrate numerically using quadrature to obtain the price:"
   ]
  },
  {
   "cell_type": "code",
   "execution_count": 4,
   "id": "04ca1571",
   "metadata": {
    "colab": {
     "base_uri": "https://localhost:8080/"
    },
    "id": "04ca1571",
    "lines_to_next_cell": 2,
    "outputId": "d69eccb2-10a0-4596-a2ed-e15988155f50"
   },
   "outputs": [
    {
     "name": "stdout",
     "output_type": "stream",
     "text": [
      "The numerical integration based option price is 15.188161\n"
     ]
    }
   ],
   "source": [
    "P, error = quad(g, 0, 1_000)\n",
    "print(f\"The numerical integration based option price is {P:3f}\")"
   ]
  },
  {
   "cell_type": "markdown",
   "id": "01bc94d2",
   "metadata": {
    "id": "01bc94d2"
   },
   "source": [
    "### Integration via Monte Carlo"
   ]
  },
  {
   "cell_type": "markdown",
   "id": "ef33d190",
   "metadata": {
    "id": "ef33d190"
   },
   "source": [
    "We can get a similar result using Monte Carlo to compute the expectation term in the option price, rather than `quad`."
   ]
  },
  {
   "cell_type": "markdown",
   "id": "3f1bf35b",
   "metadata": {
    "id": "3f1bf35b"
   },
   "source": [
    "We use the fact that if $S_n^1, \\ldots, S_n^M$ are independent draws from the lognormal distribution specified above, then, by the law of large numbers,\n",
    "\n",
    "$$ \\mathbb E \\max\\{ S_n - K, 0 \\} \n",
    "    \\approx\n",
    "    \\frac{1}{M} \\sum_{m=1}^M \\max \\{S_n^m - K, 0 \\}\n",
    "    $$\n",
    "  "
   ]
  },
  {
   "cell_type": "code",
   "execution_count": 5,
   "id": "cabb4a3c",
   "metadata": {
    "colab": {
     "base_uri": "https://localhost:8080/"
    },
    "id": "cabb4a3c",
    "outputId": "f9286a55-de80-432b-e64f-633d550dea4a"
   },
   "outputs": [
    {
     "name": "stdout",
     "output_type": "stream",
     "text": [
      "The Monte Carlo option price is 15.188731\n"
     ]
    }
   ],
   "source": [
    "M = 10_000_000\n",
    "S = np.exp(μ + σ * np.random.randn(M))\n",
    "return_draws = np.maximum(S - K, 0)\n",
    "P = β**n * np.mean(return_draws) \n",
    "print(f\"The Monte Carlo option price is {P:3f}\")"
   ]
  },
  {
   "cell_type": "markdown",
   "id": "574b8ecd",
   "metadata": {
    "id": "574b8ecd"
   },
   "source": [
    "## A Model with Stochastic Volatility\n",
    "\n",
    "In the last example we had a known distribution for $S_n$.\n",
    "\n",
    "Now let's investigate a more realistic model, where we begin by specifying the underlying dynamics."
   ]
  },
  {
   "cell_type": "markdown",
   "id": "d2904228",
   "metadata": {
    "id": "d2904228"
   },
   "source": [
    "One common model for $\\{S_t\\}$ is\n",
    "\n",
    "$$ \\ln \\frac{S_{t+1}}{S_t} = \\mu + \\sigma \\xi_{t+1} $$\n",
    "\n",
    "where $\\{ \\xi_t \\}$ is IID and standard normal.  However, its predictions are counterfactual because volatility is not stationary but rather changes over time.  \n",
    "\n",
    "Here is an improved version:\n",
    "\n",
    "$$ \\ln \\frac{S_{t+1}}{S_t} = \\mu + \\sigma_t \\xi_{t+1} $$\n",
    "\n",
    "where \n",
    "\n",
    "$$ \n",
    "    \\sigma_t = \\exp(h_t), \n",
    "    \\quad\n",
    "        h_{t+1} = \\rho h_t + \\nu \\eta_{t+1}\n",
    "$$\n",
    "\n",
    "Here $\\{\\eta_t\\}$ is also IID and standard normal."
   ]
  },
  {
   "cell_type": "markdown",
   "id": "322139c0",
   "metadata": {
    "id": "322139c0"
   },
   "source": [
    "### Visualizing Paths\n",
    "\n",
    "Let's write a function that simulates the sequence $S_0, \\ldots, S_n$, where the parameters are set to"
   ]
  },
  {
   "cell_type": "code",
   "execution_count": 6,
   "id": "4061b8f6",
   "metadata": {
    "id": "4061b8f6"
   },
   "outputs": [],
   "source": [
    "μ  = 0.0001\n",
    "ρ  = 0.1\n",
    "ν  = 0.001\n",
    "S0 = 10\n",
    "h0 = 0\n",
    "n  = 20"
   ]
  },
  {
   "cell_type": "markdown",
   "id": "6ba6b3bc",
   "metadata": {
    "id": "6ba6b3bc"
   },
   "source": [
    "(Here `S0` is $S_0$ and `h0` is $h_0$.)"
   ]
  },
  {
   "cell_type": "markdown",
   "id": "83449c77",
   "metadata": {
    "id": "83449c77"
   },
   "source": [
    "We plot 50 paths of the form $S_0, \\ldots, S_n$."
   ]
  },
  {
   "cell_type": "markdown",
   "id": "99f53167",
   "metadata": {
    "id": "99f53167"
   },
   "source": [
    "With $s_t := \\ln S_t$, the price dynamics become\n",
    "\n",
    "$$ s_{t+1} = s_t + \\mu + \\exp(h_t) \\xi_{t+1} $$\n",
    "\n",
    "Here is a function to simulate a path using this equation:"
   ]
  },
  {
   "cell_type": "code",
   "execution_count": 7,
   "id": "1695150b",
   "metadata": {
    "id": "1695150b"
   },
   "outputs": [],
   "source": [
    "from numpy.random import randn\n",
    "\n",
    "def simulate_asset_price_path(μ=μ, S0=S0, h0=h0, n=n, ρ=ρ, ν=ν):\n",
    "    s = np.empty(n+1)\n",
    "    s[0] = np.log(S0)\n",
    "\n",
    "    h = h0\n",
    "    for t in range(n):\n",
    "        s[t+1] = s[t] + μ + np.exp(h) * randn()\n",
    "        h = ρ * h + ν * randn()\n",
    "        \n",
    "    return np.exp(s)"
   ]
  },
  {
   "cell_type": "markdown",
   "id": "81c7da30",
   "metadata": {
    "id": "81c7da30"
   },
   "source": [
    "Here we plot the paths and the log of the paths."
   ]
  },
  {
   "cell_type": "code",
   "execution_count": 8,
   "id": "0ccd29c0",
   "metadata": {
    "colab": {
     "base_uri": "https://localhost:8080/",
     "height": 297
    },
    "id": "0ccd29c0",
    "outputId": "821b719b-337e-4866-c9f8-ece1081737d5"
   },
   "outputs": [
    {
     "data": {
      "image/png": "[encoded data removed]",
      "text/plain": [
       "<Figure size 432x288 with 2 Axes>"
      ]
     },
     "metadata": {
      "needs_background": "light"
     },
     "output_type": "display_data"
    }
   ],
   "source": [
    "fig, axes = plt.subplots(2, 1)\n",
    "\n",
    "titles = 'log paths', 'paths'\n",
    "transforms = np.log, lambda x: x\n",
    "for ax, transform, title in zip(axes, transforms, titles):\n",
    "    for i in range(50):\n",
    "        path = simulate_asset_price_path()\n",
    "        ax.plot(transform(path))\n",
    "    ax.set_title(title)\n",
    "    \n",
    "fig.tight_layout()\n",
    "plt.show()"
   ]
  },
  {
   "cell_type": "markdown",
   "id": "723b16c7",
   "metadata": {
    "id": "723b16c7"
   },
   "source": [
    "### Monte Carlo Computation via Numba"
   ]
  },
  {
   "cell_type": "markdown",
   "id": "b3e57768",
   "metadata": {
    "id": "b3e57768"
   },
   "source": [
    "Now we compute the price of the option $P_0$ by Monte Carlo, averaging over realizations $S_n^1, \\ldots, S_n^M$ of $S_n$ and appealing to the law of large numbers:\n",
    "\n",
    "$$ \\mathbb E \\max\\{ S_n - K, 0 \\} \n",
    "    \\approx\n",
    "    \\frac{1}{M} \\sum_{m=1}^M \\max \\{S_n^m - K, 0 \\}\n",
    "    $$\n",
    "    \n"
   ]
  },
  {
   "cell_type": "code",
   "execution_count": 9,
   "id": "153ec2db",
   "metadata": {
    "id": "153ec2db"
   },
   "outputs": [],
   "source": [
    "from numba import njit"
   ]
  },
  {
   "cell_type": "code",
   "execution_count": 10,
   "id": "e447d71b",
   "metadata": {
    "id": "e447d71b",
    "lines_to_next_cell": 1
   },
   "outputs": [],
   "source": [
    "# A namedtuple definition for storing parameters and initial conditions\n",
    "Model = namedtuple(\"Model\", \n",
    "                   (\"β\", \"μ\", \"K\", \"n\", \"ρ\", \"ν\", \"S0\", \"h0\"))"
   ]
  },
  {
   "cell_type": "code",
   "execution_count": 11,
   "id": "ded4af65",
   "metadata": {
    "id": "ded4af65",
    "lines_to_next_cell": 1
   },
   "outputs": [],
   "source": [
    "def create_model(β=0.95,\n",
    "                    μ=0.0001,\n",
    "                    K=100,\n",
    "                    n=10,\n",
    "                    ρ=0.1,\n",
    "                    ν=0.001,\n",
    "                    S0=10,\n",
    "                    h0=0):\n",
    "\n",
    "    return Model(β=β, μ=μ, K=K, n=n, ρ=ρ, ν=ν, S0=S0, h0=h0)"
   ]
  },
  {
   "cell_type": "code",
   "execution_count": 12,
   "id": "75afe6de",
   "metadata": {
    "id": "75afe6de"
   },
   "outputs": [],
   "source": [
    "default_model = create_model()\n",
    "default_M = 10_000_000"
   ]
  },
  {
   "cell_type": "code",
   "execution_count": 13,
   "id": "3da12c7a",
   "metadata": {
    "id": "3da12c7a"
   },
   "outputs": [],
   "source": [
    "@njit\n",
    "def compute_call_price(model=default_model, M=default_M):\n",
    "\n",
    "    β, μ, K, n, ρ, ν, S0, h0 = model\n",
    "\n",
    "    current_sum = 0.0\n",
    "    # For each sample path\n",
    "    for m in range(M):\n",
    "        s = np.log(S0)\n",
    "        h = h0\n",
    "        # Simulate forward in time\n",
    "        for t in range(n):\n",
    "            s = s + μ + np.exp(h) * randn()\n",
    "            h = ρ * h + ν * randn()\n",
    "        # And add the value max{S_n - K, 0} to current_sum\n",
    "        current_sum += np.maximum(np.exp(s) - K, 0)\n",
    "        \n",
    "    return β**n * current_sum / M"
   ]
  },
  {
   "cell_type": "code",
   "execution_count": 14,
   "id": "ab8ec64a",
   "metadata": {
    "colab": {
     "base_uri": "https://localhost:8080/"
    },
    "id": "ab8ec64a",
    "lines_to_next_cell": 2,
    "outputId": "082d3534-d083-4dd5-93fd-92665f79823f"
   },
   "outputs": [
    {
     "name": "stdout",
     "output_type": "stream",
     "text": [
      "CPU times: user 4.94 s, sys: 19 ms, total: 4.96 s\n",
      "Wall time: 4.95 s\n"
     ]
    },
    {
     "data": {
      "text/plain": [
       "892.5579395344918"
      ]
     },
     "execution_count": 14,
     "metadata": {},
     "output_type": "execute_result"
    }
   ],
   "source": [
    "%%time \n",
    "compute_call_price()"
   ]
  },
  {
   "cell_type": "markdown",
   "id": "e99ee41f",
   "metadata": {
    "id": "e99ee41f"
   },
   "source": [
    "### Acceleration via `prange`\n",
    "\n",
    "Let's use `prange` from Numba to parallelize this code on the CPU and make it faster."
   ]
  },
  {
   "cell_type": "code",
   "execution_count": 15,
   "id": "ea4d17c9",
   "metadata": {
    "id": "ea4d17c9",
    "lines_to_next_cell": 1
   },
   "outputs": [],
   "source": [
    "from numba import prange"
   ]
  },
  {
   "cell_type": "code",
   "execution_count": 16,
   "id": "6980ff3a",
   "metadata": {
    "id": "6980ff3a"
   },
   "outputs": [],
   "source": [
    "@njit(parallel=True)\n",
    "def compute_call_price_parallel(model=default_model, M=default_M):\n",
    "\n",
    "    β, μ, K, n, ρ, ν, S0, h0 = model\n",
    "\n",
    "    current_sum = 0.0\n",
    "    # For each sample path\n",
    "    for m in prange(M):\n",
    "        s = np.log(S0)\n",
    "        h = h0\n",
    "        # Simulate forward in time\n",
    "        for t in range(n):\n",
    "            s = s + μ + np.exp(h) * randn()\n",
    "            h = ρ * h + ν * randn()\n",
    "        # And add the value max{S_n - K, 0} to current_sum\n",
    "        current_sum += np.maximum(np.exp(s) - K, 0)\n",
    "        \n",
    "    return β**n * current_sum / M"
   ]
  },
  {
   "cell_type": "code",
   "execution_count": 17,
   "id": "0a98e90b",
   "metadata": {
    "colab": {
     "base_uri": "https://localhost:8080/"
    },
    "id": "0a98e90b",
    "outputId": "da705bad-0917-4f05-d6e5-ec0f6104f26c"
   },
   "outputs": [
    {
     "name": "stdout",
     "output_type": "stream",
     "text": [
      "CPU times: user 7.63 s, sys: 27.8 ms, total: 7.66 s\n",
      "Wall time: 1.42 s\n"
     ]
    },
    {
     "data": {
      "text/plain": [
       "841.2493561567269"
      ]
     },
     "execution_count": 17,
     "metadata": {},
     "output_type": "execute_result"
    }
   ],
   "source": [
    "%%time\n",
    "compute_call_price_parallel()"
   ]
  },
  {
   "cell_type": "code",
   "execution_count": 18,
   "id": "d8140f11",
   "metadata": {
    "colab": {
     "base_uri": "https://localhost:8080/"
    },
    "id": "d8140f11",
    "lines_to_next_cell": 2,
    "outputId": "b957919d-2724-4e76-b2ef-af9e5cc4c30a"
   },
   "outputs": [
    {
     "name": "stdout",
     "output_type": "stream",
     "text": [
      "CPU times: user 7.26 s, sys: 0 ns, total: 7.26 s\n",
      "Wall time: 933 ms\n"
     ]
    },
    {
     "data": {
      "text/plain": [
       "873.9781241284014"
      ]
     },
     "execution_count": 18,
     "metadata": {},
     "output_type": "execute_result"
    }
   ],
   "source": [
    "%%time\n",
    "compute_call_price_parallel()"
   ]
  },
  {
   "cell_type": "markdown",
   "id": "d26d83a8",
   "metadata": {
    "id": "d26d83a8"
   },
   "source": [
    "### A GPU Implementation Using CUDA"
   ]
  },
  {
   "cell_type": "code",
   "execution_count": 21,
   "id": "c45c423c",
   "metadata": {
    "colab": {
     "base_uri": "https://localhost:8080/"
    },
    "id": "1_lbXMhOTRra",
    "outputId": "4e455ec2-deea-4ca5-e24a-cb3dfcd6ded8"
   },
   "outputs": [],
   "source": [
    "#!find / -iname 'libdevice'\n",
    "#!find / -iname 'libnvvm.so'"
   ]
  },
  {
   "cell_type": "code",
   "execution_count": 22,
   "id": "14b93d5c",
   "metadata": {
    "id": "26bAoSYNTXFf"
   },
   "outputs": [],
   "source": [
    "#import os\n",
    "#os.environ['NUMBAPRO_LIBDEVICE'] = \"/usr/local/cuda-11.2/nvvm/libdevice\"\n",
    "#os.environ['NUMBAPRO_NVVM'] = \"/usr/local/cuda-11.2/nvvm/lib64/libnvvm.so\""
   ]
  },
  {
   "cell_type": "code",
   "execution_count": 23,
   "id": "dc42806e",
   "metadata": {
    "id": "dc42806e"
   },
   "outputs": [],
   "source": [
    "from math import log, exp\n",
    "from numba import cuda, objmode, float32, int32\n",
    "from numba.cuda.random import xoroshiro128p_normal_float32 as xnf32\n",
    "from numba.cuda.random import create_xoroshiro128p_states as x128_states"
   ]
  },
  {
   "cell_type": "code",
   "execution_count": 24,
   "id": "2ef635b3",
   "metadata": {
    "id": "2ef635b3"
   },
   "outputs": [],
   "source": [
    "@cuda.jit(device=True)\n",
    "def update_price(params, s, h, ξ_1, ξ_2):\n",
    "    \"Update the state\"\n",
    "    β, μ, K, n, ρ, ν = params\n",
    "    s = s + μ + exp(h) * ξ_1\n",
    "    h = ρ * h + ν * ξ_2\n",
    "    return s, h"
   ]
  },
  {
   "cell_type": "code",
   "execution_count": 25,
   "id": "797f1f05",
   "metadata": {
    "id": "797f1f05"
   },
   "outputs": [],
   "source": [
    "@cuda.jit\n",
    "def price_generation_kernel(params, init_vals, price_sample, rng_states):\n",
    "    \"\"\"\n",
    "    Kernel function for the GPU.\n",
    "    Produces one observation of S_n, using the D-MCE algorithm.\n",
    "    \"\"\"\n",
    "\n",
    "    # Get position and unpack parameter values\n",
    "    pos = cuda.grid(1)\n",
    "    β, μ, K, n, ρ, ν = params\n",
    "    S0, h0 = init_vals\n",
    "    \n",
    "    s, h = log(S0), h0\n",
    "    for t in range(n):\n",
    "\n",
    "        # Update price\n",
    "        ξ_1 = xnf32(rng_states, pos)\n",
    "        ξ_2 = xnf32(rng_states, pos)\n",
    "\n",
    "        s, h = update_price(params, s, h, ξ_1, ξ_2)\n",
    "\n",
    "    price_sample[pos] = exp(s)"
   ]
  },
  {
   "cell_type": "code",
   "execution_count": 26,
   "id": "c0804638",
   "metadata": {
    "id": "c0804638"
   },
   "outputs": [],
   "source": [
    "def compute_call_price_cuda(model=default_model,\n",
    "                            M=default_M,\n",
    "                            seed=1234, \n",
    "                            threads_per_block=64):\n",
    "    \"\"\"\n",
    "    This function launches the kernel and returns a \n",
    "    Monte Carlo estimate of the price\n",
    "    \"\"\"\n",
    "    # Set up\n",
    "    nthreads = threads_per_block\n",
    "    nblocks = M // nthreads\n",
    "    β, μ, K, n, ρ, ν, S0, h0 = model\n",
    "    params = float32(β), float32(μ), float32(K), int32(n), float32(ρ), float32(ν)\n",
    "    init_vals = float32(S0), float32(h0)\n",
    "\n",
    "    # Generate the random states\n",
    "    rng_states = x128_states(M, seed=seed)\n",
    "\n",
    "    # Allocate memory\n",
    "    price_sample = cuda.to_device(np.zeros(M))\n",
    "\n",
    "    # Launch kernel and compute prices\n",
    "    price_generation_kernel[nblocks, nthreads](\n",
    "        params, init_vals, price_sample, rng_states\n",
    "    )\n",
    "\n",
    "    # Compute average payoff and discount\n",
    "    price_sample = price_sample.copy_to_host()\n",
    "    payoffs = np.maximum(price_sample - K, 0)\n",
    "    return β**n * np.mean(payoffs)"
   ]
  },
  {
   "cell_type": "code",
   "execution_count": 27,
   "id": "474d80fd",
   "metadata": {
    "colab": {
     "base_uri": "https://localhost:8080/"
    },
    "id": "474d80fd",
    "outputId": "66221def-87da-4783-b989-54b2aca8308a"
   },
   "outputs": [
    {
     "name": "stdout",
     "output_type": "stream",
     "text": [
      "CPU times: user 2.64 s, sys: 104 ms, total: 2.74 s\n",
      "Wall time: 2.75 s\n"
     ]
    },
    {
     "data": {
      "text/plain": [
       "844.149468472432"
      ]
     },
     "execution_count": 27,
     "metadata": {},
     "output_type": "execute_result"
    }
   ],
   "source": [
    "%%time\n",
    "compute_call_price_cuda()"
   ]
  },
  {
   "cell_type": "code",
   "execution_count": 50,
   "id": "a74eshKnWVyP",
   "metadata": {
    "id": "a74eshKnWVyP"
   },
   "outputs": [],
   "source": []
  }
 ],
 "metadata": {
  "accelerator": "GPU",
  "colab": {
   "provenance": []
  },
  "gpuClass": "premium",
  "kernelspec": {
   "display_name": "Python 3 (ipykernel)",
   "language": "python",
   "name": "python3"
  },
  "language_info": {
   "codemirror_mode": {
    "name": "ipython",
    "version": 3
   },
   "file_extension": ".py",
   "mimetype": "text/x-python",
   "name": "python",
   "nbconvert_exporter": "python",
   "pygments_lexer": "ipython3",
   "version": "3.9.12"
  }
 },
 "nbformat": 4,
 "nbformat_minor": 5
}
