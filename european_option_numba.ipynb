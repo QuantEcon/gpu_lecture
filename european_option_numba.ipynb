{
 "cells": [
  {
   "cell_type": "markdown",
   "id": "8ed62ea1",
   "metadata": {},
   "source": [
    "## Pricing a European Call Option under Risk Neutrality"
   ]
  },
  {
   "cell_type": "markdown",
   "id": "db3b91a2",
   "metadata": {},
   "source": [
    "#### Author: [John Stachurski](http://johnstachurski.net/)\n",
    "#### Date: Nov 2022"
   ]
  },
  {
   "cell_type": "code",
   "execution_count": 42,
   "id": "2447bf5f",
   "metadata": {},
   "outputs": [],
   "source": [
    "import numpy as np\n",
    "import matplotlib.pyplot as plt\n",
    "from collections import namedtuple\n",
    "from dataclasses import dataclass, astuple"
   ]
  },
  {
   "cell_type": "markdown",
   "id": "d16fe980",
   "metadata": {},
   "source": [
    "We are going to price a European call option under the assumption of risk neutrality.  The price satisfies\n",
    "\n",
    "\n",
    "$$ P = \\beta^n \\mathbb E \\max\\{ S_n - K, 0 \\} $$\n",
    "\n",
    "where\n",
    "\n",
    "1. $\\beta$ is a discount factor,\n",
    "2. $n$ is the expiry date,\n",
    "2. $K$ is the strike price and\n",
    "3. $\\{S_t\\}$ is the price of the underlying asset at each time $t$.\n",
    "\n",
    "(For example, if the call option is to buy stock in Amazon at strike price $K$, the owner has the right to buy 1 share in Amazon at price $K$ after $n$ days.  The price is the expectation of the return $\\max\\{S_n - K, 0\\}$, discounted to current value.)"
   ]
  },
  {
   "cell_type": "markdown",
   "id": "5236b451",
   "metadata": {},
   "source": [
    "## Lognormal Example\n",
    "\n",
    "Let's start with an easy case where $S_n$ has a known distribution.\n",
    "\n",
    "Suppose in particular that $S_n$ has the [log-normal](https://en.wikipedia.org/wiki/Log-normal_distribution) distribution with parameters $\\mu$ and $\\sigma$.  Let $f$ denote the density of this distribution.  Then\n",
    "\n",
    "$$ P = \\beta^n \\int_0^\\infty \\max\\{x - K, 0\\} f(x) dx $$\n",
    "\n",
    "Let's first plot the function \n",
    "\n",
    "$$g(x) = \\beta^n  \\max\\{x - K, 0\\} f(x)$$ \n",
    "\n",
    "over the interval $[0, 400]$ when"
   ]
  },
  {
   "cell_type": "code",
   "execution_count": 2,
   "id": "c7003806",
   "metadata": {},
   "outputs": [],
   "source": [
    "μ, σ, β, n, K = 4, 0.25, 0.99, 10, 40"
   ]
  },
  {
   "cell_type": "code",
   "execution_count": 3,
   "id": "8e909043",
   "metadata": {},
   "outputs": [
    {
     "data": {
      "image/png": "[encoded data removed]",
      "text/plain": [
       "<Figure size 432x288 with 1 Axes>"
      ]
     },
     "metadata": {
      "needs_background": "light"
     },
     "output_type": "display_data"
    }
   ],
   "source": [
    "from scipy.integrate import quad\n",
    "from scipy.stats import lognorm\n",
    "\n",
    "def g(x):\n",
    "    return β**n * np.maximum(x - K, 0) * lognorm.pdf(x, σ, scale=np.exp(μ))\n",
    "\n",
    "x_grid = np.linspace(0, 400, 1000)\n",
    "y_grid = g(x_grid) \n",
    "\n",
    "fig, ax = plt.subplots()\n",
    "ax.plot(x_grid, y_grid, label=\"$g$\")\n",
    "ax.legend()\n",
    "plt.show()"
   ]
  },
  {
   "cell_type": "markdown",
   "id": "57358ce7",
   "metadata": {},
   "source": [
    "### Integration with Quadrature"
   ]
  },
  {
   "cell_type": "markdown",
   "id": "2dda4e74",
   "metadata": {},
   "source": [
    "We can integrate numerically using quadrature to obtain the price:"
   ]
  },
  {
   "cell_type": "code",
   "execution_count": 4,
   "id": "04ca1571",
   "metadata": {
    "lines_to_next_cell": 2
   },
   "outputs": [
    {
     "name": "stdout",
     "output_type": "stream",
     "text": [
      "The numerical integration based option price is 15.188161\n"
     ]
    }
   ],
   "source": [
    "P, error = quad(g, 0, 1_000)\n",
    "print(f\"The numerical integration based option price is {P:3f}\")"
   ]
  },
  {
   "cell_type": "markdown",
   "id": "01bc94d2",
   "metadata": {},
   "source": [
    "### Integration via Monte Carlo"
   ]
  },
  {
   "cell_type": "markdown",
   "id": "ef33d190",
   "metadata": {},
   "source": [
    "We can get a similar result using Monte Carlo to compute the expectation term in the option price, rather than `quad`."
   ]
  },
  {
   "cell_type": "markdown",
   "id": "3f1bf35b",
   "metadata": {},
   "source": [
    "We use the fact that if $S_n^1, \\ldots, S_n^M$ are independent draws from the lognormal distribution specified above, then, by the law of large numbers,\n",
    "\n",
    "$$ \\mathbb E \\max\\{ S_n - K, 0 \\} \n",
    "    \\approx\n",
    "    \\frac{1}{M} \\sum_{m=1}^M \\max \\{S_n^m - K, 0 \\}\n",
    "    $$\n",
    "  "
   ]
  },
  {
   "cell_type": "code",
   "execution_count": 5,
   "id": "cabb4a3c",
   "metadata": {},
   "outputs": [
    {
     "name": "stdout",
     "output_type": "stream",
     "text": [
      "The Monte Carlo option price is 15.188883\n"
     ]
    }
   ],
   "source": [
    "M = 10_000_000\n",
    "S = np.exp(μ + σ * np.random.randn(M))\n",
    "return_draws = np.maximum(S - K, 0)\n",
    "P = β**n * np.mean(return_draws) \n",
    "print(f\"The Monte Carlo option price is {P:3f}\")"
   ]
  },
  {
   "cell_type": "markdown",
   "id": "574b8ecd",
   "metadata": {},
   "source": [
    "## A Model with Stochastic Volatility\n",
    "\n",
    "In the last example we had a known distribution for $S_n$.\n",
    "\n",
    "Now let's investigate a more realistic model, where we begin by specifying the underlying dynamics."
   ]
  },
  {
   "cell_type": "markdown",
   "id": "d2904228",
   "metadata": {},
   "source": [
    "One common model for $\\{S_t\\}$ is\n",
    "\n",
    "$$ \\ln \\frac{S_{t+1}}{S_t} = \\mu + \\sigma \\xi_{t+1} $$\n",
    "\n",
    "where $\\{ \\xi_t \\}$ is IID and standard normal.  However, its predictions are counterfactual because volatility is not stationary but rather changes over time.  \n",
    "\n",
    "Here is an improved version:\n",
    "\n",
    "$$ \\ln \\frac{S_{t+1}}{S_t} = \\mu + \\sigma_t \\xi_{t+1} $$\n",
    "\n",
    "where \n",
    "\n",
    "$$ \n",
    "    \\sigma_t = \\exp(h_t), \n",
    "    \\quad\n",
    "        h_{t+1} = \\rho h_t + \\nu \\eta_{t+1}\n",
    "$$\n",
    "\n",
    "Here $\\{\\eta_t\\}$ is also IID and standard normal."
   ]
  },
  {
   "cell_type": "markdown",
   "id": "322139c0",
   "metadata": {},
   "source": [
    "### Visualizing Paths\n",
    "\n",
    "Let's write a function that simulates the sequence $S_0, \\ldots, S_n$, where the parameters are set to"
   ]
  },
  {
   "cell_type": "code",
   "execution_count": 6,
   "id": "4061b8f6",
   "metadata": {},
   "outputs": [],
   "source": [
    "μ  = 0.0001\n",
    "ρ  = 0.1\n",
    "ν  = 0.001\n",
    "S0 = 10\n",
    "h0 = 0\n",
    "n  = 20"
   ]
  },
  {
   "cell_type": "markdown",
   "id": "6ba6b3bc",
   "metadata": {},
   "source": [
    "(Here `S0` is $S_0$ and `h0` is $h_0$.)"
   ]
  },
  {
   "cell_type": "markdown",
   "id": "83449c77",
   "metadata": {},
   "source": [
    "We plot 50 paths of the form $S_0, \\ldots, S_n$."
   ]
  },
  {
   "cell_type": "markdown",
   "id": "99f53167",
   "metadata": {},
   "source": [
    "With $s_t := \\ln S_t$, the price dynamics become\n",
    "\n",
    "$$ s_{t+1} = s_t + \\mu + \\exp(h_t) \\xi_{t+1} $$\n",
    "\n",
    "Here is a function to simulate a path using this equation:"
   ]
  },
  {
   "cell_type": "code",
   "execution_count": 7,
   "id": "1695150b",
   "metadata": {},
   "outputs": [],
   "source": [
    "from numpy.random import randn\n",
    "\n",
    "def simulate_asset_price_path(μ=μ, S0=S0, h0=h0, n=n, ρ=ρ, ν=ν):\n",
    "    s = np.empty(n+1)\n",
    "    s[0] = np.log(S0)\n",
    "\n",
    "    h = h0\n",
    "    for t in range(n):\n",
    "        s[t+1] = s[t] + μ + np.exp(h) * randn()\n",
    "        h = ρ * h + ν * randn()\n",
    "        \n",
    "    return np.exp(s)"
   ]
  },
  {
   "cell_type": "markdown",
   "id": "81c7da30",
   "metadata": {},
   "source": [
    "Here we plot the paths and the log of the paths."
   ]
  },
  {
   "cell_type": "code",
   "execution_count": 8,
   "id": "0ccd29c0",
   "metadata": {},
   "outputs": [
    {
     "data": {
      "image/png": "[encoded data removed]",
      "text/plain": [
       "<Figure size 432x288 with 2 Axes>"
      ]
     },
     "metadata": {
      "needs_background": "light"
     },
     "output_type": "display_data"
    }
   ],
   "source": [
    "fig, axes = plt.subplots(2, 1)\n",
    "\n",
    "titles = 'log paths', 'paths'\n",
    "transforms = np.log, lambda x: x\n",
    "for ax, transform, title in zip(axes, transforms, titles):\n",
    "    for i in range(50):\n",
    "        path = simulate_asset_price_path()\n",
    "        ax.plot(transform(path))\n",
    "    ax.set_title(title)\n",
    "    \n",
    "fig.tight_layout()\n",
    "plt.show()"
   ]
  },
  {
   "cell_type": "markdown",
   "id": "723b16c7",
   "metadata": {},
   "source": [
    "### Monte Carlo Computation via Numba"
   ]
  },
  {
   "cell_type": "markdown",
   "id": "b3e57768",
   "metadata": {},
   "source": [
    "Now we compute the price of the option $P_0$ by Monte Carlo, averaging over realizations $S_n^1, \\ldots, S_n^M$ of $S_n$ and appealing to the law of large numbers:\n",
    "\n",
    "$$ \\mathbb E \\max\\{ S_n - K, 0 \\} \n",
    "    \\approx\n",
    "    \\frac{1}{M} \\sum_{m=1}^M \\max \\{S_n^m - K, 0 \\}\n",
    "    $$\n",
    "    \n"
   ]
  },
  {
   "cell_type": "code",
   "execution_count": 9,
   "id": "153ec2db",
   "metadata": {},
   "outputs": [],
   "source": [
    "from numba import njit"
   ]
  },
  {
   "cell_type": "code",
   "execution_count": 43,
   "id": "df8994e8",
   "metadata": {
    "lines_to_next_cell": 1
   },
   "outputs": [],
   "source": [
    "@dataclass\n",
    "class Params:\n",
    "    \"\"\"\n",
    "    A class that stores parameter values and initial conditions.\n",
    "    \"\"\"\n",
    "    \n",
    "    β: float = 0.95\n",
    "    μ: float = 0.0001\n",
    "    K: float = 100.0\n",
    "    n: int = 10\n",
    "    ρ: float = 0.1\n",
    "    ν: float = 0.001\n",
    "    S0: float = 10.0\n",
    "    h0: float = 0.0\n",
    "\n",
    "    def __iter__(self):\n",
    "        yield from astuple(self)\n"
   ]
  },
  {
   "cell_type": "code",
   "execution_count": 54,
   "id": "e447d71b",
   "metadata": {
    "lines_to_next_cell": 1
   },
   "outputs": [],
   "source": [
    "# A namedtuple definition for storing parameters and initial conditions\n",
    "Model = namedtuple(\"Model\", \n",
    "                   (\"β\", \"μ\", \"K\", \"n\", \"ρ\", \"ν\", \"S0\", \"h0\"))"
   ]
  },
  {
   "cell_type": "code",
   "execution_count": 55,
   "id": "ded4af65",
   "metadata": {
    "lines_to_next_cell": 1
   },
   "outputs": [],
   "source": [
    "def create_model(β=0.95,\n",
    "                    μ=0.0001,\n",
    "                    K=100,\n",
    "                    n=10,\n",
    "                    ρ=0.1,\n",
    "                    ν=0.001,\n",
    "                    S0=10,\n",
    "                    h0=0):\n",
    "\n",
    "    return Model(β=β, μ=μ, K=K, n=n, ρ=ρ, ν=ν, S0=S0, h0=h0)"
   ]
  },
  {
   "cell_type": "code",
   "execution_count": 56,
   "id": "75afe6de",
   "metadata": {},
   "outputs": [],
   "source": [
    "default_model = create_model()\n",
    "default_M=10_000_000"
   ]
  },
  {
   "cell_type": "code",
   "execution_count": 57,
   "id": "3da12c7a",
   "metadata": {},
   "outputs": [],
   "source": [
    "@njit\n",
    "def compute_call_price(model=default_model, M=default_M):\n",
    "\n",
    "    β, μ, K, n, ρ, ν, S0, h0 = model\n",
    "\n",
    "    current_sum = 0.0\n",
    "    # For each sample path\n",
    "    for m in range(M):\n",
    "        s = np.log(S0)\n",
    "        h = h0\n",
    "        # Simulate forward in time\n",
    "        for t in range(n):\n",
    "            s = s + μ + np.exp(h) * randn()\n",
    "            h = ρ * h + ν * randn()\n",
    "        # And add the value max{S_n - K, 0} to current_sum\n",
    "        current_sum += np.maximum(np.exp(s) - K, 0)\n",
    "        \n",
    "    return β**n * current_sum / M"
   ]
  },
  {
   "cell_type": "code",
   "execution_count": 58,
   "id": "ab8ec64a",
   "metadata": {
    "lines_to_next_cell": 2
   },
   "outputs": [
    {
     "name": "stdout",
     "output_type": "stream",
     "text": [
      "CPU times: user 3.97 s, sys: 11.5 ms, total: 3.98 s\n",
      "Wall time: 3.96 s\n"
     ]
    },
    {
     "data": {
      "text/plain": [
       "894.0890036123989"
      ]
     },
     "execution_count": 58,
     "metadata": {},
     "output_type": "execute_result"
    }
   ],
   "source": [
    "%%time \n",
    "compute_call_price()"
   ]
  },
  {
   "cell_type": "markdown",
   "id": "e99ee41f",
   "metadata": {},
   "source": [
    "### Acceleration via `prange`\n",
    "\n",
    "Let's use `prange` from Numba to parallelize this code on the CPU and make it faster."
   ]
  },
  {
   "cell_type": "code",
   "execution_count": 59,
   "id": "ea4d17c9",
   "metadata": {
    "lines_to_next_cell": 1
   },
   "outputs": [],
   "source": [
    "from numba import prange"
   ]
  },
  {
   "cell_type": "code",
   "execution_count": 73,
   "id": "6980ff3a",
   "metadata": {},
   "outputs": [
    {
     "ename": "NameError",
     "evalue": "name 'default_model' is not defined",
     "output_type": "error",
     "traceback": [
      "\u001b[0;31m---------------------------------------------------------------------------\u001b[0m",
      "\u001b[0;31mNameError\u001b[0m                                 Traceback (most recent call last)",
      "Input \u001b[0;32mIn [73]\u001b[0m, in \u001b[0;36m<cell line: 1>\u001b[0;34m()\u001b[0m\n\u001b[1;32m      1\u001b[0m \u001b[38;5;129m@njit\u001b[39m(parallel\u001b[38;5;241m=\u001b[39m\u001b[38;5;28;01mTrue\u001b[39;00m)\n\u001b[0;32m----> 2\u001b[0m \u001b[38;5;28;01mdef\u001b[39;00m \u001b[38;5;21mcompute_call_price_parallel\u001b[39m(model\u001b[38;5;241m=\u001b[39m\u001b[43mdefault_model\u001b[49m, M\u001b[38;5;241m=\u001b[39mdefault_M):\n\u001b[1;32m      4\u001b[0m     β, μ, K, n, ρ, ν, S0, h0 \u001b[38;5;241m=\u001b[39m model\n\u001b[1;32m      6\u001b[0m     current_sum \u001b[38;5;241m=\u001b[39m \u001b[38;5;241m0.0\u001b[39m\n",
      "\u001b[0;31mNameError\u001b[0m: name 'default_model' is not defined"
     ]
    }
   ],
   "source": [
    "@njit(parallel=True)\n",
    "def compute_call_price_parallel(model=default_model, M=default_M):\n",
    "\n",
    "    β, μ, K, n, ρ, ν, S0, h0 = model\n",
    "\n",
    "    current_sum = 0.0\n",
    "    # For each sample path\n",
    "    for m in prange(M):\n",
    "        s = np.log(S0)\n",
    "        h = h0\n",
    "        # Simulate forward in time\n",
    "        for t in range(n):\n",
    "            s = s + μ + np.exp(h) * randn()\n",
    "            h = ρ * h + ν * randn()\n",
    "        # And add the value max{S_n - K, 0} to current_sum\n",
    "        current_sum += np.maximum(np.exp(s) - K, 0)\n",
    "        \n",
    "    return β**n * current_sum / M"
   ]
  },
  {
   "cell_type": "code",
   "execution_count": 61,
   "id": "0a98e90b",
   "metadata": {},
   "outputs": [
    {
     "name": "stdout",
     "output_type": "stream",
     "text": [
      "CPU times: user 8.52 s, sys: 0 ns, total: 8.52 s\n",
      "Wall time: 1.41 s\n"
     ]
    },
    {
     "data": {
      "text/plain": [
       "852.697829152791"
      ]
     },
     "execution_count": 61,
     "metadata": {},
     "output_type": "execute_result"
    }
   ],
   "source": [
    "%%time\n",
    "compute_call_price_parallel()"
   ]
  },
  {
   "cell_type": "code",
   "execution_count": 62,
   "id": "d8140f11",
   "metadata": {
    "lines_to_next_cell": 2
   },
   "outputs": [
    {
     "name": "stdout",
     "output_type": "stream",
     "text": [
      "CPU times: user 8.24 s, sys: 7 ms, total: 8.25 s\n",
      "Wall time: 1.08 s\n"
     ]
    },
    {
     "data": {
      "text/plain": [
       "936.8689230471717"
      ]
     },
     "execution_count": 62,
     "metadata": {},
     "output_type": "execute_result"
    }
   ],
   "source": [
    "%%time\n",
    "compute_call_price_parallel()"
   ]
  },
  {
   "cell_type": "markdown",
   "id": "d26d83a8",
   "metadata": {},
   "source": [
    "### A GPU Implementation Using CUDA"
   ]
  },
  {
   "cell_type": "code",
   "execution_count": 68,
   "id": "dc42806e",
   "metadata": {},
   "outputs": [],
   "source": [
    "from math import log, exp\n",
    "from numba import cuda, objmode\n",
    "from numba.cuda.random import xoroshiro128p_normal_float32 as xnf32\n",
    "from numba.cuda.random import create_xoroshiro128p_states as x128_states"
   ]
  },
  {
   "cell_type": "code",
   "execution_count": 69,
   "id": "2ef635b3",
   "metadata": {},
   "outputs": [],
   "source": [
    "@cuda.jit(device=True)\n",
    "def update_price(params, s, h, ξ_1, ξ_2):\n",
    "    \"Update the state\"\n",
    "    β, μ, K, n, ρ, ν = params\n",
    "    s = s + μ + exp(h) * ξ_1\n",
    "    h = ρ * h + ν * ξ_2\n",
    "    return s, h"
   ]
  },
  {
   "cell_type": "code",
   "execution_count": 74,
   "id": "797f1f05",
   "metadata": {},
   "outputs": [],
   "source": [
    "@cuda.jit\n",
    "def price_generation_kernel(params, init_vals, price_sample, rng_states):\n",
    "    \"\"\"\n",
    "    Kernel function for the GPU.\n",
    "    Produces one observation of S_n, using the D-MCE algorithm.\n",
    "    \"\"\"\n",
    "\n",
    "    # Get position and unpack parameter values\n",
    "    pos = cuda.grid(1)\n",
    "    β, μ, K, n, ρ, ν = params\n",
    "    S0, h0 = init_vals\n",
    "    \n",
    "    s, h = log(S0), h0\n",
    "    for t in range(n):\n",
    "\n",
    "        # Update price\n",
    "        ξ_1 = xnf32(rng_states, pos)\n",
    "        ξ_2 = xnf32(rng_states, pos)\n",
    "\n",
    "        s, h = update_price(params, s, h, ξ_1, ξ_2)\n",
    "\n",
    "    price_sample[pos] = exp(s)"
   ]
  },
  {
   "cell_type": "code",
   "execution_count": 75,
   "id": "c0804638",
   "metadata": {},
   "outputs": [],
   "source": [
    "def compute_call_price_cuda(params,\n",
    "                            M=default_M,\n",
    "                            seed=1234, \n",
    "                            threads_per_block=64):\n",
    "    \"\"\"\n",
    "    This function launches the kernel and returns an \n",
    "    a Monte Carlo estimate of the price\n",
    "    \"\"\"\n",
    "    # Set up\n",
    "    nthreads = threads_per_block\n",
    "    nblocks = M // nthreads\n",
    "    β, μ, K, n, ρ, ν, S0, h0 = params\n",
    "\n",
    "    # Generate the random states\n",
    "    rng_states = x128_states(n, seed=seed)\n",
    "\n",
    "    # Allocate memory -- TODO put this on the device\n",
    "    price_sample = np.zeros(M)\n",
    "\n",
    "    price_generation_kernel[nblocks, nthreads](params, price_sample, rng_states)\n",
    "\n",
    "    payoffs = np.maximum(np.exp(price_sample) - K, 0)\n",
    "    return β**n * np.mean(payoffs)"
   ]
  },
  {
   "cell_type": "code",
   "execution_count": 76,
   "id": "474d80fd",
   "metadata": {},
   "outputs": [
    {
     "ename": "CudaAPIError",
     "evalue": "[700] Call to cuMemAlloc results in UNKNOWN_CUDA_ERROR",
     "output_type": "error",
     "traceback": [
      "\u001b[0;31m---------------------------------------------------------------------------\u001b[0m",
      "\u001b[0;31mCudaAPIError\u001b[0m                              Traceback (most recent call last)",
      "File \u001b[0;32m<timed eval>:1\u001b[0m, in \u001b[0;36m<module>\u001b[0;34m\u001b[0m\n",
      "Input \u001b[0;32mIn [75]\u001b[0m, in \u001b[0;36mcompute_call_price_cuda\u001b[0;34m(params, M, seed, threads_per_block)\u001b[0m\n\u001b[1;32m     12\u001b[0m β, μ, K, n, ρ, ν, S0, h0 \u001b[38;5;241m=\u001b[39m params\n\u001b[1;32m     14\u001b[0m \u001b[38;5;66;03m# Generate the random states\u001b[39;00m\n\u001b[0;32m---> 15\u001b[0m rng_states \u001b[38;5;241m=\u001b[39m \u001b[43mx128_states\u001b[49m\u001b[43m(\u001b[49m\u001b[43mn\u001b[49m\u001b[43m,\u001b[49m\u001b[43m \u001b[49m\u001b[43mseed\u001b[49m\u001b[38;5;241;43m=\u001b[39;49m\u001b[43mseed\u001b[49m\u001b[43m)\u001b[49m\n\u001b[1;32m     17\u001b[0m \u001b[38;5;66;03m# Allocate memory -- TODO put this on the device\u001b[39;00m\n\u001b[1;32m     18\u001b[0m price_sample \u001b[38;5;241m=\u001b[39m np\u001b[38;5;241m.\u001b[39mzeros(M)\n",
      "File \u001b[0;32m~/anaconda3/lib/python3.9/site-packages/numba/cuda/random.py:289\u001b[0m, in \u001b[0;36mcreate_xoroshiro128p_states\u001b[0;34m(n, seed, subsequence_start, stream)\u001b[0m\n\u001b[1;32m    268\u001b[0m \u001b[38;5;28;01mdef\u001b[39;00m \u001b[38;5;21mcreate_xoroshiro128p_states\u001b[39m(n, seed, subsequence_start\u001b[38;5;241m=\u001b[39m\u001b[38;5;241m0\u001b[39m, stream\u001b[38;5;241m=\u001b[39m\u001b[38;5;241m0\u001b[39m):\n\u001b[1;32m    269\u001b[0m     \u001b[38;5;124;03m'''Returns a new device array initialized for n random number generators.\u001b[39;00m\n\u001b[1;32m    270\u001b[0m \n\u001b[1;32m    271\u001b[0m \u001b[38;5;124;03m    This initializes the RNG states so that each state in the array corresponds\u001b[39;00m\n\u001b[0;32m   (...)\u001b[0m\n\u001b[1;32m    287\u001b[0m \u001b[38;5;124;03m    :param stream: stream to run initialization kernel on\u001b[39;00m\n\u001b[1;32m    288\u001b[0m \u001b[38;5;124;03m    '''\u001b[39;00m\n\u001b[0;32m--> 289\u001b[0m     states \u001b[38;5;241m=\u001b[39m \u001b[43mcuda\u001b[49m\u001b[38;5;241;43m.\u001b[39;49m\u001b[43mdevice_array\u001b[49m\u001b[43m(\u001b[49m\u001b[43mn\u001b[49m\u001b[43m,\u001b[49m\u001b[43m \u001b[49m\u001b[43mdtype\u001b[49m\u001b[38;5;241;43m=\u001b[39;49m\u001b[43mxoroshiro128p_dtype\u001b[49m\u001b[43m,\u001b[49m\u001b[43m \u001b[49m\u001b[43mstream\u001b[49m\u001b[38;5;241;43m=\u001b[39;49m\u001b[43mstream\u001b[49m\u001b[43m)\u001b[49m\n\u001b[1;32m    290\u001b[0m     init_xoroshiro128p_states(states, seed, subsequence_start, stream)\n\u001b[1;32m    291\u001b[0m     \u001b[38;5;28;01mreturn\u001b[39;00m states\n",
      "File \u001b[0;32m~/anaconda3/lib/python3.9/site-packages/numba/cuda/cudadrv/devices.py:232\u001b[0m, in \u001b[0;36mrequire_context.<locals>._require_cuda_context\u001b[0;34m(*args, **kws)\u001b[0m\n\u001b[1;32m    229\u001b[0m \u001b[38;5;129m@functools\u001b[39m\u001b[38;5;241m.\u001b[39mwraps(fn)\n\u001b[1;32m    230\u001b[0m \u001b[38;5;28;01mdef\u001b[39;00m \u001b[38;5;21m_require_cuda_context\u001b[39m(\u001b[38;5;241m*\u001b[39margs, \u001b[38;5;241m*\u001b[39m\u001b[38;5;241m*\u001b[39mkws):\n\u001b[1;32m    231\u001b[0m     \u001b[38;5;28;01mwith\u001b[39;00m _runtime\u001b[38;5;241m.\u001b[39mensure_context():\n\u001b[0;32m--> 232\u001b[0m         \u001b[38;5;28;01mreturn\u001b[39;00m \u001b[43mfn\u001b[49m\u001b[43m(\u001b[49m\u001b[38;5;241;43m*\u001b[39;49m\u001b[43margs\u001b[49m\u001b[43m,\u001b[49m\u001b[43m \u001b[49m\u001b[38;5;241;43m*\u001b[39;49m\u001b[38;5;241;43m*\u001b[39;49m\u001b[43mkws\u001b[49m\u001b[43m)\u001b[49m\n",
      "File \u001b[0;32m~/anaconda3/lib/python3.9/site-packages/numba/cuda/api.py:136\u001b[0m, in \u001b[0;36mdevice_array\u001b[0;34m(shape, dtype, strides, order, stream)\u001b[0m\n\u001b[1;32m    130\u001b[0m \u001b[38;5;124;03m\"\"\"device_array(shape, dtype=np.float_, strides=None, order='C', stream=0)\u001b[39;00m\n\u001b[1;32m    131\u001b[0m \n\u001b[1;32m    132\u001b[0m \u001b[38;5;124;03mAllocate an empty device ndarray. Similar to :meth:`numpy.empty`.\u001b[39;00m\n\u001b[1;32m    133\u001b[0m \u001b[38;5;124;03m\"\"\"\u001b[39;00m\n\u001b[1;32m    134\u001b[0m shape, strides, dtype \u001b[38;5;241m=\u001b[39m prepare_shape_strides_dtype(shape, strides, dtype,\n\u001b[1;32m    135\u001b[0m                                                     order)\n\u001b[0;32m--> 136\u001b[0m \u001b[38;5;28;01mreturn\u001b[39;00m \u001b[43mdevicearray\u001b[49m\u001b[38;5;241;43m.\u001b[39;49m\u001b[43mDeviceNDArray\u001b[49m\u001b[43m(\u001b[49m\u001b[43mshape\u001b[49m\u001b[38;5;241;43m=\u001b[39;49m\u001b[43mshape\u001b[49m\u001b[43m,\u001b[49m\u001b[43m \u001b[49m\u001b[43mstrides\u001b[49m\u001b[38;5;241;43m=\u001b[39;49m\u001b[43mstrides\u001b[49m\u001b[43m,\u001b[49m\u001b[43m \u001b[49m\u001b[43mdtype\u001b[49m\u001b[38;5;241;43m=\u001b[39;49m\u001b[43mdtype\u001b[49m\u001b[43m,\u001b[49m\n\u001b[1;32m    137\u001b[0m \u001b[43m                                 \u001b[49m\u001b[43mstream\u001b[49m\u001b[38;5;241;43m=\u001b[39;49m\u001b[43mstream\u001b[49m\u001b[43m)\u001b[49m\n",
      "File \u001b[0;32m~/anaconda3/lib/python3.9/site-packages/numba/cuda/cudadrv/devicearray.py:103\u001b[0m, in \u001b[0;36mDeviceNDArrayBase.__init__\u001b[0;34m(self, shape, strides, dtype, stream, gpu_data)\u001b[0m\n\u001b[1;32m    100\u001b[0m \u001b[38;5;28;01mif\u001b[39;00m gpu_data \u001b[38;5;129;01mis\u001b[39;00m \u001b[38;5;28;01mNone\u001b[39;00m:\n\u001b[1;32m    101\u001b[0m     \u001b[38;5;28mself\u001b[39m\u001b[38;5;241m.\u001b[39malloc_size \u001b[38;5;241m=\u001b[39m _driver\u001b[38;5;241m.\u001b[39mmemory_size_from_info(\n\u001b[1;32m    102\u001b[0m         \u001b[38;5;28mself\u001b[39m\u001b[38;5;241m.\u001b[39mshape, \u001b[38;5;28mself\u001b[39m\u001b[38;5;241m.\u001b[39mstrides, \u001b[38;5;28mself\u001b[39m\u001b[38;5;241m.\u001b[39mdtype\u001b[38;5;241m.\u001b[39mitemsize)\n\u001b[0;32m--> 103\u001b[0m     gpu_data \u001b[38;5;241m=\u001b[39m \u001b[43mdevices\u001b[49m\u001b[38;5;241;43m.\u001b[39;49m\u001b[43mget_context\u001b[49m\u001b[43m(\u001b[49m\u001b[43m)\u001b[49m\u001b[38;5;241;43m.\u001b[39;49m\u001b[43mmemalloc\u001b[49m\u001b[43m(\u001b[49m\u001b[38;5;28;43mself\u001b[39;49m\u001b[38;5;241;43m.\u001b[39;49m\u001b[43malloc_size\u001b[49m\u001b[43m)\u001b[49m\n\u001b[1;32m    104\u001b[0m \u001b[38;5;28;01melse\u001b[39;00m:\n\u001b[1;32m    105\u001b[0m     \u001b[38;5;28mself\u001b[39m\u001b[38;5;241m.\u001b[39malloc_size \u001b[38;5;241m=\u001b[39m _driver\u001b[38;5;241m.\u001b[39mdevice_memory_size(gpu_data)\n",
      "File \u001b[0;32m~/anaconda3/lib/python3.9/site-packages/numba/cuda/cudadrv/driver.py:1360\u001b[0m, in \u001b[0;36mContext.memalloc\u001b[0;34m(self, bytesize)\u001b[0m\n\u001b[1;32m   1359\u001b[0m \u001b[38;5;28;01mdef\u001b[39;00m \u001b[38;5;21mmemalloc\u001b[39m(\u001b[38;5;28mself\u001b[39m, bytesize):\n\u001b[0;32m-> 1360\u001b[0m     \u001b[38;5;28;01mreturn\u001b[39;00m \u001b[38;5;28;43mself\u001b[39;49m\u001b[38;5;241;43m.\u001b[39;49m\u001b[43mmemory_manager\u001b[49m\u001b[38;5;241;43m.\u001b[39;49m\u001b[43mmemalloc\u001b[49m\u001b[43m(\u001b[49m\u001b[43mbytesize\u001b[49m\u001b[43m)\u001b[49m\n",
      "File \u001b[0;32m~/anaconda3/lib/python3.9/site-packages/numba/cuda/cudadrv/driver.py:1052\u001b[0m, in \u001b[0;36mNumbaCUDAMemoryManager.memalloc\u001b[0;34m(self, size)\u001b[0m\n\u001b[1;32m   1049\u001b[0m     \u001b[38;5;28;01mdef\u001b[39;00m \u001b[38;5;21mallocator\u001b[39m():\n\u001b[1;32m   1050\u001b[0m         driver\u001b[38;5;241m.\u001b[39mcuMemAlloc(byref(ptr), size)\n\u001b[0;32m-> 1052\u001b[0m     \u001b[38;5;28;43mself\u001b[39;49m\u001b[38;5;241;43m.\u001b[39;49m\u001b[43m_attempt_allocation\u001b[49m\u001b[43m(\u001b[49m\u001b[43mallocator\u001b[49m\u001b[43m)\u001b[49m\n\u001b[1;32m   1053\u001b[0m     alloc_key \u001b[38;5;241m=\u001b[39m ptr\u001b[38;5;241m.\u001b[39mvalue\n\u001b[1;32m   1055\u001b[0m finalizer \u001b[38;5;241m=\u001b[39m _alloc_finalizer(\u001b[38;5;28mself\u001b[39m, ptr, alloc_key, size)\n",
      "File \u001b[0;32m~/anaconda3/lib/python3.9/site-packages/numba/cuda/cudadrv/driver.py:839\u001b[0m, in \u001b[0;36mHostOnlyCUDAMemoryManager._attempt_allocation\u001b[0;34m(self, allocator)\u001b[0m\n\u001b[1;32m    833\u001b[0m \u001b[38;5;124;03m\"\"\"\u001b[39;00m\n\u001b[1;32m    834\u001b[0m \u001b[38;5;124;03mAttempt allocation by calling *allocator*.  If an out-of-memory error\u001b[39;00m\n\u001b[1;32m    835\u001b[0m \u001b[38;5;124;03mis raised, the pending deallocations are flushed and the allocation\u001b[39;00m\n\u001b[1;32m    836\u001b[0m \u001b[38;5;124;03mis retried.  If it fails in the second attempt, the error is reraised.\u001b[39;00m\n\u001b[1;32m    837\u001b[0m \u001b[38;5;124;03m\"\"\"\u001b[39;00m\n\u001b[1;32m    838\u001b[0m \u001b[38;5;28;01mtry\u001b[39;00m:\n\u001b[0;32m--> 839\u001b[0m     \u001b[38;5;28;01mreturn\u001b[39;00m \u001b[43mallocator\u001b[49m\u001b[43m(\u001b[49m\u001b[43m)\u001b[49m\n\u001b[1;32m    840\u001b[0m \u001b[38;5;28;01mexcept\u001b[39;00m CudaAPIError \u001b[38;5;28;01mas\u001b[39;00m e:\n\u001b[1;32m    841\u001b[0m     \u001b[38;5;66;03m# is out-of-memory?\u001b[39;00m\n\u001b[1;32m    842\u001b[0m     \u001b[38;5;28;01mif\u001b[39;00m USE_NV_BINDING:\n",
      "File \u001b[0;32m~/anaconda3/lib/python3.9/site-packages/numba/cuda/cudadrv/driver.py:1050\u001b[0m, in \u001b[0;36mNumbaCUDAMemoryManager.memalloc.<locals>.allocator\u001b[0;34m()\u001b[0m\n\u001b[1;32m   1049\u001b[0m \u001b[38;5;28;01mdef\u001b[39;00m \u001b[38;5;21mallocator\u001b[39m():\n\u001b[0;32m-> 1050\u001b[0m     \u001b[43mdriver\u001b[49m\u001b[38;5;241;43m.\u001b[39;49m\u001b[43mcuMemAlloc\u001b[49m\u001b[43m(\u001b[49m\u001b[43mbyref\u001b[49m\u001b[43m(\u001b[49m\u001b[43mptr\u001b[49m\u001b[43m)\u001b[49m\u001b[43m,\u001b[49m\u001b[43m \u001b[49m\u001b[43msize\u001b[49m\u001b[43m)\u001b[49m\n",
      "File \u001b[0;32m~/anaconda3/lib/python3.9/site-packages/numba/cuda/cudadrv/driver.py:319\u001b[0m, in \u001b[0;36mDriver._ctypes_wrap_fn.<locals>.safe_cuda_api_call\u001b[0;34m(*args)\u001b[0m\n\u001b[1;32m    317\u001b[0m _logger\u001b[38;5;241m.\u001b[39mdebug(\u001b[38;5;124m'\u001b[39m\u001b[38;5;124mcall driver api: \u001b[39m\u001b[38;5;132;01m%s\u001b[39;00m\u001b[38;5;124m'\u001b[39m, libfn\u001b[38;5;241m.\u001b[39m\u001b[38;5;18m__name__\u001b[39m)\n\u001b[1;32m    318\u001b[0m retcode \u001b[38;5;241m=\u001b[39m libfn(\u001b[38;5;241m*\u001b[39margs)\n\u001b[0;32m--> 319\u001b[0m \u001b[38;5;28;43mself\u001b[39;49m\u001b[38;5;241;43m.\u001b[39;49m\u001b[43m_check_ctypes_error\u001b[49m\u001b[43m(\u001b[49m\u001b[43mfname\u001b[49m\u001b[43m,\u001b[49m\u001b[43m \u001b[49m\u001b[43mretcode\u001b[49m\u001b[43m)\u001b[49m\n",
      "File \u001b[0;32m~/anaconda3/lib/python3.9/site-packages/numba/cuda/cudadrv/driver.py:387\u001b[0m, in \u001b[0;36mDriver._check_ctypes_error\u001b[0;34m(self, fname, retcode)\u001b[0m\n\u001b[1;32m    385\u001b[0m \u001b[38;5;28;01mif\u001b[39;00m retcode \u001b[38;5;241m==\u001b[39m enums\u001b[38;5;241m.\u001b[39mCUDA_ERROR_NOT_INITIALIZED:\n\u001b[1;32m    386\u001b[0m     \u001b[38;5;28mself\u001b[39m\u001b[38;5;241m.\u001b[39m_detect_fork()\n\u001b[0;32m--> 387\u001b[0m \u001b[38;5;28;01mraise\u001b[39;00m CudaAPIError(retcode, msg)\n",
      "\u001b[0;31mCudaAPIError\u001b[0m: [700] Call to cuMemAlloc results in UNKNOWN_CUDA_ERROR"
     ]
    }
   ],
   "source": [
    "%%time\n",
    "compute_call_price_cuda(params=default_params)"
   ]
  },
  {
   "cell_type": "code",
   "execution_count": null,
   "id": "1da56dd5",
   "metadata": {},
   "outputs": [],
   "source": []
  },
  {
   "cell_type": "code",
   "execution_count": null,
   "id": "5a9ee302",
   "metadata": {},
   "outputs": [],
   "source": []
  }
 ],
 "metadata": {
  "kernelspec": {
   "display_name": "Python 3 (ipykernel)",
   "language": "python",
   "name": "python3"
  },
  "language_info": {
   "codemirror_mode": {
    "name": "ipython",
    "version": 3
   },
   "file_extension": ".py",
   "mimetype": "text/x-python",
   "name": "python",
   "nbconvert_exporter": "python",
   "pygments_lexer": "ipython3",
   "version": "3.9.12"
  }
 },
 "nbformat": 4,
 "nbformat_minor": 5
}
