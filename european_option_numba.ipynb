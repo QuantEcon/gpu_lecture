{
 "cells": [
  {
   "cell_type": "markdown",
   "id": "8ed62ea1",
   "metadata": {},
   "source": [
    "## Pricing a European Call Option: CPU vs GPU"
   ]
  },
  {
   "cell_type": "markdown",
   "id": "db3b91a2",
   "metadata": {},
   "source": [
    "#### Author: [John Stachurski](http://johnstachurski.net/)\n",
    "#### Date: Nov 2022"
   ]
  },
  {
   "cell_type": "code",
   "execution_count": 4,
   "id": "2447bf5f",
   "metadata": {},
   "outputs": [],
   "source": [
    "import numpy as np\n",
    "import matplotlib.pyplot as plt\n",
    "from collections import namedtuple"
   ]
  },
  {
   "cell_type": "markdown",
   "id": "d16fe980",
   "metadata": {},
   "source": [
    "We are going to price a European call option under the assumption of risk neutrality.  The price satisfies\n",
    "\n",
    "\n",
    "$$ P = \\beta^n \\mathbb E \\max\\{ S_n - K, 0 \\} $$\n",
    "\n",
    "where\n",
    "\n",
    "1. $\\beta$ is a discount factor,\n",
    "2. $n$ is the expiry date,\n",
    "2. $K$ is the strike price and\n",
    "3. $\\{S_t\\}$ is the price of the underlying asset at each time $t$.\n",
    "\n",
    "(For example, if the call option is to buy stock in Amazon at strike price $K$, the owner has the right to buy 1 share in Amazon at price $K$ after $n$ days.  The price is the expectation of the return $\\max\\{S_n - K, 0\\}$, discounted to current value.)"
   ]
  },
  {
   "cell_type": "markdown",
   "id": "5236b451",
   "metadata": {},
   "source": [
    "## Lognormal Example\n",
    "\n",
    "Let's start with an easy case where $S_n$ has a known distribution.\n",
    "\n",
    "Suppose in particular that $S_n$ has the [log-normal](https://en.wikipedia.org/wiki/Log-normal_distribution) distribution with parameters $\\mu$ and $\\sigma$.  Let $f$ denote the density of this distribution.  Then\n",
    "\n",
    "$$ P = \\beta^n \\int_0^\\infty \\max\\{x - K, 0\\} f(x) dx $$\n",
    "\n",
    "Let's first plot the function \n",
    "\n",
    "$$g(x) = \\beta^n  \\max\\{x - K, 0\\} f(x)$$ \n",
    "\n",
    "over the interval $[0, 400]$ when"
   ]
  },
  {
   "cell_type": "code",
   "execution_count": 5,
   "id": "c7003806",
   "metadata": {},
   "outputs": [],
   "source": [
    "μ, σ, β, n, K = 4, 0.25, 0.99, 10, 40"
   ]
  },
  {
   "cell_type": "code",
   "execution_count": 6,
   "id": "8e909043",
   "metadata": {},
   "outputs": [
    {
     "data": {
      "image/png": "[encoded data removed]",
      "text/plain": [
       "<Figure size 432x288 with 1 Axes>"
      ]
     },
     "metadata": {
      "needs_background": "light"
     },
     "output_type": "display_data"
    }
   ],
   "source": [
    "from scipy.integrate import quad\n",
    "from scipy.stats import lognorm\n",
    "\n",
    "def g(x):\n",
    "    return β**n * np.maximum(x - K, 0) * lognorm.pdf(x, σ, scale=np.exp(μ))\n",
    "\n",
    "x_grid = np.linspace(0, 400, 1000)\n",
    "y_grid = g(x_grid) \n",
    "\n",
    "fig, ax = plt.subplots()\n",
    "ax.plot(x_grid, y_grid, label=\"$g$\")\n",
    "ax.legend()\n",
    "plt.show()"
   ]
  },
  {
   "cell_type": "markdown",
   "id": "57358ce7",
   "metadata": {},
   "source": [
    "### Integration with Quadrature"
   ]
  },
  {
   "cell_type": "markdown",
   "id": "2dda4e74",
   "metadata": {},
   "source": [
    "We can integrate numerically using quadrature to obtain the price:"
   ]
  },
  {
   "cell_type": "code",
   "execution_count": 7,
   "id": "04ca1571",
   "metadata": {
    "lines_to_next_cell": 2
   },
   "outputs": [
    {
     "name": "stdout",
     "output_type": "stream",
     "text": [
      "The numerical integration based option price is 15.188161\n"
     ]
    }
   ],
   "source": [
    "P, error = quad(g, 0, 1_000)\n",
    "print(f\"The numerical integration based option price is {P:3f}\")"
   ]
  },
  {
   "cell_type": "markdown",
   "id": "01bc94d2",
   "metadata": {},
   "source": [
    "### Integration via Monte Carlo"
   ]
  },
  {
   "cell_type": "markdown",
   "id": "ef33d190",
   "metadata": {},
   "source": [
    "We can get a similar result using Monte Carlo to compute the expectation term in the option price, rather than `quad`."
   ]
  },
  {
   "cell_type": "markdown",
   "id": "3f1bf35b",
   "metadata": {},
   "source": [
    "We use the fact that if $S_n^1, \\ldots, S_n^M$ are independent draws from the lognormal distribution specified above, then, by the law of large numbers,\n",
    "\n",
    "$$ \\mathbb E \\max\\{ S_n - K, 0 \\} \n",
    "    \\approx\n",
    "    \\frac{1}{M} \\sum_{m=1}^M \\max \\{S_n^m - K, 0 \\}\n",
    "    $$\n",
    "  "
   ]
  },
  {
   "cell_type": "code",
   "execution_count": 8,
   "id": "cabb4a3c",
   "metadata": {},
   "outputs": [
    {
     "name": "stdout",
     "output_type": "stream",
     "text": [
      "The Monte Carlo option price is 15.192140\n"
     ]
    }
   ],
   "source": [
    "M = 10_000_000\n",
    "S = np.exp(μ + σ * np.random.randn(M))\n",
    "return_draws = np.maximum(S - K, 0)\n",
    "P = β**n * np.mean(return_draws) \n",
    "print(f\"The Monte Carlo option price is {P:3f}\")"
   ]
  },
  {
   "cell_type": "markdown",
   "id": "574b8ecd",
   "metadata": {},
   "source": [
    "## A Model with Stochastic Volatility\n",
    "\n",
    "In the last example we had a known distribution for $S_n$.\n",
    "\n",
    "Now let's investigate a more realistic model, where we begin by specifying the underlying dynamics."
   ]
  },
  {
   "cell_type": "markdown",
   "id": "d2904228",
   "metadata": {},
   "source": [
    "One common model for $\\{S_t\\}$ is\n",
    "\n",
    "$$ \\ln \\frac{S_{t+1}}{S_t} = \\mu + \\sigma \\xi_{t+1} $$\n",
    "\n",
    "where $\\{ \\xi_t \\}$ is IID and standard normal.  However, its predictions are counterfactual because volatility is not stationary but rather changes over time.  \n",
    "\n",
    "Here is an improved version:\n",
    "\n",
    "$$ \\ln \\frac{S_{t+1}}{S_t} = \\mu + \\sigma_t \\xi_{t+1} $$\n",
    "\n",
    "where \n",
    "\n",
    "$$ \n",
    "    \\sigma_t = \\exp(h_t), \n",
    "    \\quad\n",
    "        h_{t+1} = \\rho h_t + \\nu \\eta_{t+1}\n",
    "$$\n",
    "\n",
    "Here $\\{\\eta_t\\}$ is also IID and standard normal."
   ]
  },
  {
   "cell_type": "markdown",
   "id": "322139c0",
   "metadata": {},
   "source": [
    "### Visualizing Paths\n",
    "\n",
    "Let's write a function that simulates the sequence $S_0, \\ldots, S_n$, where the parameters are set to"
   ]
  },
  {
   "cell_type": "code",
   "execution_count": 9,
   "id": "4061b8f6",
   "metadata": {},
   "outputs": [],
   "source": [
    "μ  = 0.0001\n",
    "ρ  = 0.1\n",
    "ν  = 0.001\n",
    "S0 = 10\n",
    "h0 = 0\n",
    "n  = 20"
   ]
  },
  {
   "cell_type": "markdown",
   "id": "6ba6b3bc",
   "metadata": {},
   "source": [
    "(Here `S0` is $S_0$ and `h0` is $h_0$.)"
   ]
  },
  {
   "cell_type": "markdown",
   "id": "83449c77",
   "metadata": {},
   "source": [
    "We plot 50 paths of the form $S_0, \\ldots, S_n$."
   ]
  },
  {
   "cell_type": "markdown",
   "id": "99f53167",
   "metadata": {},
   "source": [
    "With $s_t := \\ln S_t$, the price dynamics become\n",
    "\n",
    "$$ s_{t+1} = s_t + \\mu + \\exp(h_t) \\xi_{t+1} $$\n",
    "\n",
    "Here is a function to simulate a path using this equation:"
   ]
  },
  {
   "cell_type": "code",
   "execution_count": 10,
   "id": "1695150b",
   "metadata": {},
   "outputs": [],
   "source": [
    "from numpy.random import randn\n",
    "\n",
    "def simulate_asset_price_path(μ=μ, S0=S0, h0=h0, n=n, ρ=ρ, ν=ν):\n",
    "    s = np.empty(n+1)\n",
    "    s[0] = np.log(S0)\n",
    "\n",
    "    h = h0\n",
    "    for t in range(n):\n",
    "        s[t+1] = s[t] + μ + np.exp(h) * randn()\n",
    "        h = ρ * h + ν * randn()\n",
    "        \n",
    "    return np.exp(s)"
   ]
  },
  {
   "cell_type": "markdown",
   "id": "81c7da30",
   "metadata": {},
   "source": [
    "Here we plot the paths and the log of the paths."
   ]
  },
  {
   "cell_type": "code",
   "execution_count": 11,
   "id": "0ccd29c0",
   "metadata": {},
   "outputs": [
    {
     "data": {
      "image/png": "[encoded data removed]",
      "text/plain": [
       "<Figure size 432x288 with 2 Axes>"
      ]
     },
     "metadata": {
      "needs_background": "light"
     },
     "output_type": "display_data"
    }
   ],
   "source": [
    "fig, axes = plt.subplots(2, 1)\n",
    "\n",
    "titles = 'log paths', 'paths'\n",
    "transforms = np.log, lambda x: x\n",
    "for ax, transform, title in zip(axes, transforms, titles):\n",
    "    for i in range(50):\n",
    "        path = simulate_asset_price_path()\n",
    "        ax.plot(transform(path))\n",
    "    ax.set_title(title)\n",
    "    \n",
    "fig.tight_layout()\n",
    "plt.show()"
   ]
  },
  {
   "cell_type": "markdown",
   "id": "723b16c7",
   "metadata": {},
   "source": [
    "### Monte Carlo Computation via Numba"
   ]
  },
  {
   "cell_type": "markdown",
   "id": "b3e57768",
   "metadata": {},
   "source": [
    "Now we compute the price of the option $P_0$ by Monte Carlo, averaging over realizations $S_n^1, \\ldots, S_n^M$ of $S_n$ and appealing to the law of large numbers:\n",
    "\n",
    "$$ \\mathbb E \\max\\{ S_n - K, 0 \\} \n",
    "    \\approx\n",
    "    \\frac{1}{M} \\sum_{m=1}^M \\max \\{S_n^m - K, 0 \\}\n",
    "    $$\n",
    "    \n"
   ]
  },
  {
   "cell_type": "code",
   "execution_count": 18,
   "id": "153ec2db",
   "metadata": {},
   "outputs": [],
   "source": [
    "from numba import njit"
   ]
  },
  {
   "cell_type": "code",
   "execution_count": 19,
   "id": "e447d71b",
   "metadata": {
    "lines_to_next_cell": 1
   },
   "outputs": [],
   "source": [
    "# A namedtuple definition for storing parameters and initial conditions\n",
    "Model = namedtuple(\"Model\", \n",
    "                   (\"β\", \"μ\", \"K\", \"n\", \"ρ\", \"ν\", \"S0\", \"h0\"))"
   ]
  },
  {
   "cell_type": "code",
   "execution_count": 20,
   "id": "ded4af65",
   "metadata": {
    "lines_to_next_cell": 1
   },
   "outputs": [],
   "source": [
    "def create_model(β=0.95,\n",
    "                    μ=0.0001,\n",
    "                    K=100,\n",
    "                    n=10,\n",
    "                    ρ=0.1,\n",
    "                    ν=0.001,\n",
    "                    S0=10,\n",
    "                    h0=0):\n",
    "\n",
    "    return Model(β=β, μ=μ, K=K, n=n, ρ=ρ, ν=ν, S0=S0, h0=h0)"
   ]
  },
  {
   "cell_type": "code",
   "execution_count": 21,
   "id": "75afe6de",
   "metadata": {},
   "outputs": [],
   "source": [
    "default_model = create_model()\n",
    "default_M=10_000_000"
   ]
  },
  {
   "cell_type": "code",
   "execution_count": 22,
   "id": "3da12c7a",
   "metadata": {},
   "outputs": [],
   "source": [
    "@njit\n",
    "def compute_call_price(model=default_model, M=default_M):\n",
    "\n",
    "    β, μ, K, n, ρ, ν, S0, h0 = model\n",
    "\n",
    "    current_sum = 0.0\n",
    "    # For each sample path\n",
    "    for m in range(M):\n",
    "        s = np.log(S0)\n",
    "        h = h0\n",
    "        # Simulate forward in time\n",
    "        for t in range(n):\n",
    "            s = s + μ + np.exp(h) * randn()\n",
    "            h = ρ * h + ν * randn()\n",
    "        # And add the value max{S_n - K, 0} to current_sum\n",
    "        current_sum += np.maximum(np.exp(s) - K, 0)\n",
    "        \n",
    "    return β**n * current_sum / M"
   ]
  },
  {
   "cell_type": "code",
   "execution_count": 23,
   "id": "ab8ec64a",
   "metadata": {
    "lines_to_next_cell": 2
   },
   "outputs": [
    {
     "name": "stdout",
     "output_type": "stream",
     "text": [
      "CPU times: user 5.74 s, sys: 6.27 ms, total: 5.75 s\n",
      "Wall time: 5.75 s\n"
     ]
    },
    {
     "data": {
      "text/plain": [
       "879.7605084325569"
      ]
     },
     "execution_count": 23,
     "metadata": {},
     "output_type": "execute_result"
    }
   ],
   "source": [
    "%%time \n",
    "compute_call_price()"
   ]
  },
  {
   "cell_type": "markdown",
   "id": "e99ee41f",
   "metadata": {},
   "source": [
    "### Acceleration via `prange`\n",
    "\n",
    "Let's use `prange` from Numba to parallelize this code on the CPU and make it faster."
   ]
  },
  {
   "cell_type": "code",
   "execution_count": 24,
   "id": "ea4d17c9",
   "metadata": {
    "lines_to_next_cell": 1
   },
   "outputs": [],
   "source": [
    "from numba import prange"
   ]
  },
  {
   "cell_type": "code",
   "execution_count": 25,
   "id": "6980ff3a",
   "metadata": {},
   "outputs": [],
   "source": [
    "@njit(parallel=True)\n",
    "def compute_call_price_parallel(model=default_model, M=default_M):\n",
    "\n",
    "    β, μ, K, n, ρ, ν, S0, h0 = model\n",
    "\n",
    "    current_sum = 0.0\n",
    "    # For each sample path\n",
    "    for m in prange(M):\n",
    "        s = np.log(S0)\n",
    "        h = h0\n",
    "        # Simulate forward in time\n",
    "        for t in range(n):\n",
    "            s = s + μ + np.exp(h) * randn()\n",
    "            h = ρ * h + ν * randn()\n",
    "        # And add the value max{S_n - K, 0} to current_sum\n",
    "        current_sum += np.maximum(np.exp(s) - K, 0)\n",
    "        \n",
    "    return β**n * current_sum / M"
   ]
  },
  {
   "cell_type": "code",
   "execution_count": 26,
   "id": "0a98e90b",
   "metadata": {},
   "outputs": [
    {
     "name": "stdout",
     "output_type": "stream",
     "text": [
      "CPU times: user 7.75 s, sys: 10.7 ms, total: 7.76 s\n",
      "Wall time: 939 ms\n"
     ]
    },
    {
     "data": {
      "text/plain": [
       "891.6658306433308"
      ]
     },
     "execution_count": 26,
     "metadata": {},
     "output_type": "execute_result"
    }
   ],
   "source": [
    "%%time\n",
    "compute_call_price_parallel()"
   ]
  },
  {
   "cell_type": "code",
   "execution_count": 27,
   "id": "d8140f11",
   "metadata": {
    "lines_to_next_cell": 2
   },
   "outputs": [
    {
     "name": "stdout",
     "output_type": "stream",
     "text": [
      "CPU times: user 7.36 s, sys: 3.68 ms, total: 7.37 s\n",
      "Wall time: 379 ms\n"
     ]
    },
    {
     "data": {
      "text/plain": [
       "885.502888930884"
      ]
     },
     "execution_count": 27,
     "metadata": {},
     "output_type": "execute_result"
    }
   ],
   "source": [
    "%%time\n",
    "compute_call_price_parallel()"
   ]
  },
  {
   "cell_type": "markdown",
   "id": "d26d83a8",
   "metadata": {},
   "source": [
    "### A GPU Implementation Using CUDA"
   ]
  },
  {
   "cell_type": "code",
   "execution_count": 28,
   "id": "dc42806e",
   "metadata": {},
   "outputs": [],
   "source": [
    "from math import log, exp\n",
    "from numba import cuda, objmode, float32\n",
    "from numba.cuda.random import xoroshiro128p_normal_float32 as xnf32\n",
    "from numba.cuda.random import create_xoroshiro128p_states as x128_states"
   ]
  },
  {
   "cell_type": "code",
   "execution_count": 29,
   "id": "2ef635b3",
   "metadata": {},
   "outputs": [],
   "source": [
    "@cuda.jit(device=True)\n",
    "def update_price(params, s, h, ξ_1, ξ_2):\n",
    "    \"Update the state\"\n",
    "    β, μ, K, n, ρ, ν = params\n",
    "    s = s + μ + exp(h) * ξ_1\n",
    "    h = ρ * h + ν * ξ_2\n",
    "    return s, h"
   ]
  },
  {
   "cell_type": "code",
   "execution_count": 30,
   "id": "797f1f05",
   "metadata": {},
   "outputs": [],
   "source": [
    "@cuda.jit\n",
    "def price_generation_kernel(params, init_vals, price_sample, rng_states):\n",
    "    \"\"\"\n",
    "    Kernel function for the GPU.\n",
    "    Produces one observation of S_n, using the D-MCE algorithm.\n",
    "    \"\"\"\n",
    "\n",
    "    # Get position and unpack parameter values\n",
    "    pos = cuda.grid(1)\n",
    "    β, μ, K, n, ρ, ν = params\n",
    "    S0, h0 = init_vals\n",
    "    \n",
    "    s, h = log(S0), h0\n",
    "    for t in range(n):\n",
    "\n",
    "        # Update price\n",
    "        ξ_1 = xnf32(rng_states, pos)\n",
    "        ξ_2 = xnf32(rng_states, pos)\n",
    "\n",
    "        s, h = update_price(params, s, h, ξ_1, ξ_2)\n",
    "\n",
    "    price_sample[pos] = exp(s)"
   ]
  },
  {
   "cell_type": "code",
   "execution_count": 31,
   "id": "c0804638",
   "metadata": {},
   "outputs": [],
   "source": [
    "def compute_call_price_cuda(model=default_model,\n",
    "                            M=default_M,\n",
    "                            seed=1234, \n",
    "                            threads_per_block=64):\n",
    "    \"\"\"\n",
    "    This function launches the kernel and returns an \n",
    "    a Monte Carlo estimate of the price\n",
    "    \"\"\"\n",
    "    # Set up\n",
    "    nthreads = threads_per_block\n",
    "    nblocks = M // nthreads\n",
    "    β, μ, K, n, ρ, ν, S0, h0 = model\n",
    "    params = β, μ, K, n, ρ, ν\n",
    "    init_vals = S0, h0\n",
    "\n",
    "    # Generate the random states\n",
    "    rng_states = x128_states(n, seed=seed)\n",
    "\n",
    "    # Allocate memory -- TODO put this on the device\n",
    "    price_sample = np.zeros(M)\n",
    "\n",
    "    price_generation_kernel[nblocks, nthreads](\n",
    "        params, init_vals, price_sample, rng_states\n",
    "    )\n",
    "\n",
    "    payoffs = np.maximum(np.exp(price_sample) - K, 0)\n",
    "    return β**n * np.mean(payoffs)"
   ]
  },
  {
   "cell_type": "code",
   "execution_count": 33,
   "id": "474d80fd",
   "metadata": {},
   "outputs": [
    {
     "ename": "CudaSupportError",
     "evalue": "Error at driver init: \n\nCUDA driver library cannot be found.\nIf you are sure that a CUDA driver is installed,\ntry setting environment variable NUMBA_CUDA_DRIVER\nwith the file path of the CUDA driver shared library.\n:",
     "output_type": "error",
     "traceback": [
      "\u001b[0;31m---------------------------------------------------------------------------\u001b[0m",
      "\u001b[0;31mCudaSupportError\u001b[0m                          Traceback (most recent call last)",
      "File \u001b[0;32m<timed eval>:1\u001b[0m, in \u001b[0;36m<module>\u001b[0;34m\u001b[0m\n",
      "Input \u001b[0;32mIn [31]\u001b[0m, in \u001b[0;36mcompute_call_price_cuda\u001b[0;34m(model, M, seed, threads_per_block)\u001b[0m\n\u001b[1;32m     14\u001b[0m init_vals \u001b[38;5;241m=\u001b[39m S0, h0\n\u001b[1;32m     16\u001b[0m \u001b[38;5;66;03m# Generate the random states\u001b[39;00m\n\u001b[0;32m---> 17\u001b[0m rng_states \u001b[38;5;241m=\u001b[39m \u001b[43mx128_states\u001b[49m\u001b[43m(\u001b[49m\u001b[43mn\u001b[49m\u001b[43m,\u001b[49m\u001b[43m \u001b[49m\u001b[43mseed\u001b[49m\u001b[38;5;241;43m=\u001b[39;49m\u001b[43mseed\u001b[49m\u001b[43m)\u001b[49m\n\u001b[1;32m     19\u001b[0m \u001b[38;5;66;03m# Allocate memory -- TODO put this on the device\u001b[39;00m\n\u001b[1;32m     20\u001b[0m price_sample \u001b[38;5;241m=\u001b[39m np\u001b[38;5;241m.\u001b[39mzeros(M)\n",
      "File \u001b[0;32m~/anaconda3/lib/python3.9/site-packages/numba/cuda/random.py:289\u001b[0m, in \u001b[0;36mcreate_xoroshiro128p_states\u001b[0;34m(n, seed, subsequence_start, stream)\u001b[0m\n\u001b[1;32m    268\u001b[0m \u001b[38;5;28;01mdef\u001b[39;00m \u001b[38;5;21mcreate_xoroshiro128p_states\u001b[39m(n, seed, subsequence_start\u001b[38;5;241m=\u001b[39m\u001b[38;5;241m0\u001b[39m, stream\u001b[38;5;241m=\u001b[39m\u001b[38;5;241m0\u001b[39m):\n\u001b[1;32m    269\u001b[0m     \u001b[38;5;124;03m'''Returns a new device array initialized for n random number generators.\u001b[39;00m\n\u001b[1;32m    270\u001b[0m \n\u001b[1;32m    271\u001b[0m \u001b[38;5;124;03m    This initializes the RNG states so that each state in the array corresponds\u001b[39;00m\n\u001b[0;32m   (...)\u001b[0m\n\u001b[1;32m    287\u001b[0m \u001b[38;5;124;03m    :param stream: stream to run initialization kernel on\u001b[39;00m\n\u001b[1;32m    288\u001b[0m \u001b[38;5;124;03m    '''\u001b[39;00m\n\u001b[0;32m--> 289\u001b[0m     states \u001b[38;5;241m=\u001b[39m \u001b[43mcuda\u001b[49m\u001b[38;5;241;43m.\u001b[39;49m\u001b[43mdevice_array\u001b[49m\u001b[43m(\u001b[49m\u001b[43mn\u001b[49m\u001b[43m,\u001b[49m\u001b[43m \u001b[49m\u001b[43mdtype\u001b[49m\u001b[38;5;241;43m=\u001b[39;49m\u001b[43mxoroshiro128p_dtype\u001b[49m\u001b[43m,\u001b[49m\u001b[43m \u001b[49m\u001b[43mstream\u001b[49m\u001b[38;5;241;43m=\u001b[39;49m\u001b[43mstream\u001b[49m\u001b[43m)\u001b[49m\n\u001b[1;32m    290\u001b[0m     init_xoroshiro128p_states(states, seed, subsequence_start, stream)\n\u001b[1;32m    291\u001b[0m     \u001b[38;5;28;01mreturn\u001b[39;00m states\n",
      "File \u001b[0;32m~/anaconda3/lib/python3.9/site-packages/numba/cuda/cudadrv/devices.py:231\u001b[0m, in \u001b[0;36mrequire_context.<locals>._require_cuda_context\u001b[0;34m(*args, **kws)\u001b[0m\n\u001b[1;32m    229\u001b[0m \u001b[38;5;129m@functools\u001b[39m\u001b[38;5;241m.\u001b[39mwraps(fn)\n\u001b[1;32m    230\u001b[0m \u001b[38;5;28;01mdef\u001b[39;00m \u001b[38;5;21m_require_cuda_context\u001b[39m(\u001b[38;5;241m*\u001b[39margs, \u001b[38;5;241m*\u001b[39m\u001b[38;5;241m*\u001b[39mkws):\n\u001b[0;32m--> 231\u001b[0m     \u001b[38;5;28;01mwith\u001b[39;00m _runtime\u001b[38;5;241m.\u001b[39mensure_context():\n\u001b[1;32m    232\u001b[0m         \u001b[38;5;28;01mreturn\u001b[39;00m fn(\u001b[38;5;241m*\u001b[39margs, \u001b[38;5;241m*\u001b[39m\u001b[38;5;241m*\u001b[39mkws)\n",
      "File \u001b[0;32m~/anaconda3/lib/python3.9/contextlib.py:119\u001b[0m, in \u001b[0;36m_GeneratorContextManager.__enter__\u001b[0;34m(self)\u001b[0m\n\u001b[1;32m    117\u001b[0m \u001b[38;5;28;01mdel\u001b[39;00m \u001b[38;5;28mself\u001b[39m\u001b[38;5;241m.\u001b[39margs, \u001b[38;5;28mself\u001b[39m\u001b[38;5;241m.\u001b[39mkwds, \u001b[38;5;28mself\u001b[39m\u001b[38;5;241m.\u001b[39mfunc\n\u001b[1;32m    118\u001b[0m \u001b[38;5;28;01mtry\u001b[39;00m:\n\u001b[0;32m--> 119\u001b[0m     \u001b[38;5;28;01mreturn\u001b[39;00m \u001b[38;5;28;43mnext\u001b[39;49m\u001b[43m(\u001b[49m\u001b[38;5;28;43mself\u001b[39;49m\u001b[38;5;241;43m.\u001b[39;49m\u001b[43mgen\u001b[49m\u001b[43m)\u001b[49m\n\u001b[1;32m    120\u001b[0m \u001b[38;5;28;01mexcept\u001b[39;00m \u001b[38;5;167;01mStopIteration\u001b[39;00m:\n\u001b[1;32m    121\u001b[0m     \u001b[38;5;28;01mraise\u001b[39;00m \u001b[38;5;167;01mRuntimeError\u001b[39;00m(\u001b[38;5;124m\"\u001b[39m\u001b[38;5;124mgenerator didn\u001b[39m\u001b[38;5;124m'\u001b[39m\u001b[38;5;124mt yield\u001b[39m\u001b[38;5;124m\"\u001b[39m) \u001b[38;5;28;01mfrom\u001b[39;00m \u001b[38;5;28mNone\u001b[39m\n",
      "File \u001b[0;32m~/anaconda3/lib/python3.9/site-packages/numba/cuda/cudadrv/devices.py:121\u001b[0m, in \u001b[0;36m_Runtime.ensure_context\u001b[0;34m(self)\u001b[0m\n\u001b[1;32m    110\u001b[0m \u001b[38;5;129m@contextmanager\u001b[39m\n\u001b[1;32m    111\u001b[0m \u001b[38;5;28;01mdef\u001b[39;00m \u001b[38;5;21mensure_context\u001b[39m(\u001b[38;5;28mself\u001b[39m):\n\u001b[1;32m    112\u001b[0m     \u001b[38;5;124;03m\"\"\"Ensure a CUDA context is available inside the context.\u001b[39;00m\n\u001b[1;32m    113\u001b[0m \n\u001b[1;32m    114\u001b[0m \u001b[38;5;124;03m    On entrance, queries the CUDA driver for an active CUDA context and\u001b[39;00m\n\u001b[0;32m   (...)\u001b[0m\n\u001b[1;32m    119\u001b[0m \u001b[38;5;124;03m    any top-level Numba CUDA API.\u001b[39;00m\n\u001b[1;32m    120\u001b[0m \u001b[38;5;124;03m    \"\"\"\u001b[39;00m\n\u001b[0;32m--> 121\u001b[0m     \u001b[38;5;28;01mwith\u001b[39;00m driver\u001b[38;5;241m.\u001b[39mget_active_context():\n\u001b[1;32m    122\u001b[0m         oldctx \u001b[38;5;241m=\u001b[39m \u001b[38;5;28mself\u001b[39m\u001b[38;5;241m.\u001b[39m_get_attached_context()\n\u001b[1;32m    123\u001b[0m         newctx \u001b[38;5;241m=\u001b[39m \u001b[38;5;28mself\u001b[39m\u001b[38;5;241m.\u001b[39mget_or_create_context(\u001b[38;5;28;01mNone\u001b[39;00m)\n",
      "File \u001b[0;32m~/anaconda3/lib/python3.9/site-packages/numba/cuda/cudadrv/driver.py:487\u001b[0m, in \u001b[0;36m_ActiveContext.__enter__\u001b[0;34m(self)\u001b[0m\n\u001b[1;32m    485\u001b[0m \u001b[38;5;28;01melse\u001b[39;00m:\n\u001b[1;32m    486\u001b[0m     hctx \u001b[38;5;241m=\u001b[39m drvapi\u001b[38;5;241m.\u001b[39mcu_context(\u001b[38;5;241m0\u001b[39m)\n\u001b[0;32m--> 487\u001b[0m     \u001b[43mdriver\u001b[49m\u001b[38;5;241;43m.\u001b[39;49m\u001b[43mcuCtxGetCurrent\u001b[49m(byref(hctx))\n\u001b[1;32m    488\u001b[0m     hctx \u001b[38;5;241m=\u001b[39m hctx \u001b[38;5;28;01mif\u001b[39;00m hctx\u001b[38;5;241m.\u001b[39mvalue \u001b[38;5;28;01melse\u001b[39;00m \u001b[38;5;28;01mNone\u001b[39;00m\n\u001b[1;32m    490\u001b[0m \u001b[38;5;28;01mif\u001b[39;00m hctx \u001b[38;5;129;01mis\u001b[39;00m \u001b[38;5;28;01mNone\u001b[39;00m:\n",
      "File \u001b[0;32m~/anaconda3/lib/python3.9/site-packages/numba/cuda/cudadrv/driver.py:287\u001b[0m, in \u001b[0;36mDriver.__getattr__\u001b[0;34m(self, fname)\u001b[0m\n\u001b[1;32m    284\u001b[0m \u001b[38;5;28mself\u001b[39m\u001b[38;5;241m.\u001b[39mensure_initialized()\n\u001b[1;32m    286\u001b[0m \u001b[38;5;28;01mif\u001b[39;00m \u001b[38;5;28mself\u001b[39m\u001b[38;5;241m.\u001b[39minitialization_error \u001b[38;5;129;01mis\u001b[39;00m \u001b[38;5;129;01mnot\u001b[39;00m \u001b[38;5;28;01mNone\u001b[39;00m:\n\u001b[0;32m--> 287\u001b[0m     \u001b[38;5;28;01mraise\u001b[39;00m CudaSupportError(\u001b[38;5;124m\"\u001b[39m\u001b[38;5;124mError at driver init: \u001b[39m\u001b[38;5;130;01m\\n\u001b[39;00m\u001b[38;5;132;01m%s\u001b[39;00m\u001b[38;5;124m:\u001b[39m\u001b[38;5;124m\"\u001b[39m \u001b[38;5;241m%\u001b[39m\n\u001b[1;32m    288\u001b[0m                            \u001b[38;5;28mself\u001b[39m\u001b[38;5;241m.\u001b[39minitialization_error)\n\u001b[1;32m    290\u001b[0m \u001b[38;5;28;01mif\u001b[39;00m USE_NV_BINDING:\n\u001b[1;32m    291\u001b[0m     \u001b[38;5;28;01mreturn\u001b[39;00m \u001b[38;5;28mself\u001b[39m\u001b[38;5;241m.\u001b[39m_cuda_python_wrap_fn(fname)\n",
      "\u001b[0;31mCudaSupportError\u001b[0m: Error at driver init: \n\nCUDA driver library cannot be found.\nIf you are sure that a CUDA driver is installed,\ntry setting environment variable NUMBA_CUDA_DRIVER\nwith the file path of the CUDA driver shared library.\n:"
     ]
    }
   ],
   "source": [
    "%%time\n",
    "compute_call_price_cuda()"
   ]
  },
  {
   "cell_type": "code",
   "execution_count": null,
   "id": "1da56dd5",
   "metadata": {},
   "outputs": [],
   "source": []
  },
  {
   "cell_type": "code",
   "execution_count": null,
   "id": "5a9ee302",
   "metadata": {},
   "outputs": [],
   "source": []
  }
 ],
 "metadata": {
  "kernelspec": {
   "display_name": "Python 3 (ipykernel)",
   "language": "python",
   "name": "python3"
  },
  "language_info": {
   "codemirror_mode": {
    "name": "ipython",
    "version": 3
   },
   "file_extension": ".py",
   "mimetype": "text/x-python",
   "name": "python",
   "nbconvert_exporter": "python",
   "pygments_lexer": "ipython3",
   "version": "3.9.7"
  }
 },
 "nbformat": 4,
 "nbformat_minor": 5
}
